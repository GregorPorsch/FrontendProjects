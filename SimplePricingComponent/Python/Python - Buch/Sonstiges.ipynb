{
 "cells": [
  {
   "cell_type": "markdown",
   "id": "4e7afa70",
   "metadata": {},
   "source": [
    "# Sonstiges"
   ]
  },
  {
   "cell_type": "markdown",
   "id": "ee1abe66",
   "metadata": {},
   "source": [
    "### Random list of certain length"
   ]
  },
  {
   "cell_type": "code",
   "execution_count": 2,
   "id": "063948db",
   "metadata": {},
   "outputs": [
    {
     "name": "stdout",
     "output_type": "stream",
     "text": [
      "[4, 2, 0, 7, 5]\n"
     ]
    }
   ],
   "source": [
    "import random \n",
    "print(random.sample(range(0,10), 5))    # Liste der Länge 5 mit zufälligen Elementen von 0 bis 10 (exklusive)"
   ]
  },
  {
   "cell_type": "markdown",
   "id": "6b7aac58",
   "metadata": {},
   "source": [
    "### Format output of numbers"
   ]
  },
  {
   "cell_type": "code",
   "execution_count": 23,
   "id": "ce8d53de",
   "metadata": {},
   "outputs": [
    {
     "name": "stdout",
     "output_type": "stream",
     "text": [
      "Area: 3.15\n"
     ]
    }
   ],
   "source": [
    "print(\"Area: {:.2f}\".format(3.1455926))   # Rundet bereits!!!!!!!"
   ]
  },
  {
   "cell_type": "code",
   "execution_count": 31,
   "id": "28cf49c0",
   "metadata": {},
   "outputs": [
    {
     "name": "stdout",
     "output_type": "stream",
     "text": [
      "  2.00\n",
      "preis: +2.00\n",
      "         2\n",
      "12,534,885\n",
      "          Hallo\n"
     ]
    }
   ],
   "source": [
    "preis = 2\n",
    "print(f\"{preis:6.2f}\")    # Zwei Nachkommastellen und vor der Zahl werden so viele Leerzeichen eingefügt, \n",
    "                          # bis der String aus mindestens 6 Zeichen besteht\n",
    "print(f\"preis:{preis:+6.2f}\")     # Vorzeichen anzeigen\n",
    "print(f\"{preis:-10d}\")            # Nur negative Vorzeichen\n",
    "print(f\"{12534885:,}\")             # Kommas für 1000er Stellen\n",
    "print(\"{:>15s}\".format(\"Hallo\"))  # Rechtsbündig mit 15 Stellen"
   ]
  },
  {
   "cell_type": "markdown",
   "id": "ba5f2b36",
   "metadata": {},
   "source": [
    "### Check if is digit"
   ]
  },
  {
   "cell_type": "code",
   "execution_count": 14,
   "id": "a1dd7cdb",
   "metadata": {},
   "outputs": [
    {
     "name": "stdout",
     "output_type": "stream",
     "text": [
      "False\n"
     ]
    }
   ],
   "source": [
    "print(\"3.12\".isdigit())"
   ]
  },
  {
   "cell_type": "markdown",
   "id": "ef56038a",
   "metadata": {},
   "source": [
    "### Remove characters from String"
   ]
  },
  {
   "cell_type": "code",
   "execution_count": 15,
   "id": "b40c1422",
   "metadata": {},
   "outputs": [
    {
     "name": "stdout",
     "output_type": "stream",
     "text": [
      "Exampl sntnc\n"
     ]
    }
   ],
   "source": [
    "print(\"Example sentence\".replace(\"e\", \"\"))"
   ]
  },
  {
   "cell_type": "markdown",
   "id": "1d6a7e71",
   "metadata": {},
   "source": [
    "### Reduce function"
   ]
  },
  {
   "cell_type": "code",
   "execution_count": 21,
   "id": "a3ec4a60",
   "metadata": {},
   "outputs": [
    {
     "name": "stdout",
     "output_type": "stream",
     "text": [
      "3.5714285714285716\n"
     ]
    }
   ],
   "source": [
    "from functools import reduce\n",
    "grades = [1,3,2,5,4,5,5,2,6,2,3,5,3,4]\n",
    "print(reduce(lambda x,y: x+y, grades)/len(grades))"
   ]
  },
  {
   "cell_type": "markdown",
   "id": "a90b3319",
   "metadata": {},
   "source": [
    "### Runden"
   ]
  },
  {
   "cell_type": "code",
   "execution_count": 22,
   "id": "09d8d2a0",
   "metadata": {},
   "outputs": [
    {
     "name": "stdout",
     "output_type": "stream",
     "text": [
      "3.14\n"
     ]
    }
   ],
   "source": [
    "print(round(3.1415925, 2))"
   ]
  },
  {
   "cell_type": "markdown",
   "id": "1e01d8fa",
   "metadata": {},
   "source": [
    "### Format example"
   ]
  },
  {
   "cell_type": "code",
   "execution_count": 37,
   "id": "5c167a1f",
   "metadata": {},
   "outputs": [
    {
     "name": "stdout",
     "output_type": "stream",
     "text": [
      "Mittelwert: 253g\n",
      "Gewicht von Packung  1:    251\t -2\n",
      "Gewicht von Packung  2:    245\t -8\n",
      "Gewicht von Packung  3:    240\t-13\twird aussortiert\n",
      "Gewicht von Packung  4:    260\t +7\n",
      "Gewicht von Packung  5:    257\t +4\n",
      "Gewicht von Packung  6:    261\t +8\twird aussortiert\n",
      "Gewicht von Packung  7:    254\t +1\n",
      "Gewicht von Packung  8:    259\t +6\n"
     ]
    }
   ],
   "source": [
    "from functools import reduce\n",
    "\n",
    "def evaluate_test_values(values):\n",
    "    mean = round(reduce(lambda x,y: x+y, values)/len(values))\n",
    "    print(f\"Mittelwert: {mean}g\")\n",
    "    \n",
    "    for index, value in enumerate(values):\n",
    "        print(f\"Gewicht von Packung {index+1:2d}:{value:7d}\\t{value-mean:+3d}\", end=\"\")   # :+ gibt Vorzeichen an\n",
    "        print(\"\\twird aussortiert\" if value > 260 or value < 245 else \"\")\n",
    "        \n",
    "evaluate_test_values([251, 245, 240, 260, 257, 261, 254, 259])"
   ]
  },
  {
   "cell_type": "markdown",
   "id": "b93eaec4",
   "metadata": {},
   "source": [
    "### Counter"
   ]
  },
  {
   "cell_type": "code",
   "execution_count": 29,
   "id": "1c087690",
   "metadata": {},
   "outputs": [
    {
     "name": "stdout",
     "output_type": "stream",
     "text": [
      "Counter({3: 6, 1: 3, 4: 2, 7: 1, 2: 1, 5: 1})\n",
      "[(1, 3), (2, 1), (3, 6), (4, 2), (5, 1), (7, 1)]\n",
      " 1 ***\n",
      " 2 *\n",
      " 3 ******\n",
      " 4 **\n",
      " 5 *\n",
      " 7 *\n"
     ]
    }
   ],
   "source": [
    "from collections import Counter\n",
    "\n",
    "def pseudo_graphic(values):\n",
    "    cnt = Counter(values); print(cnt)\n",
    "    cnt = sorted(cnt.items()); print(cnt)    # Sort by key\n",
    "    \n",
    "    for key, value in cnt:\n",
    "        stars = \"*\" * value\n",
    "        print(f\"{key:2d} {stars}\")\n",
    "        \n",
    "pseudo_graphic([1,3,4,7,2,1,1,4,3,3,3,3,5,3])"
   ]
  },
  {
   "cell_type": "markdown",
   "id": "4525487c",
   "metadata": {},
   "source": [
    "### Sort"
   ]
  },
  {
   "cell_type": "code",
   "execution_count": 16,
   "id": "a9a25849",
   "metadata": {},
   "outputs": [
    {
     "name": "stdout",
     "output_type": "stream",
     "text": [
      "['ba', 'ab', 'ac']\n"
     ]
    }
   ],
   "source": [
    "print(sorted([\"ab\", \"ac\", \"ba\"], key=lambda x: x[1]))"
   ]
  },
  {
   "cell_type": "code",
   "execution_count": 32,
   "id": "eb61b67f",
   "metadata": {},
   "outputs": [
    {
     "name": "stdout",
     "output_type": "stream",
     "text": [
      "[1, 2, 3]\n"
     ]
    }
   ],
   "source": [
    "people = {1: \"Jim\", 3:\"John\", 2:\"Karen\"}\n",
    "print(sorted(people))"
   ]
  },
  {
   "cell_type": "code",
   "execution_count": 35,
   "id": "5ac94307",
   "metadata": {},
   "outputs": [
    {
     "name": "stdout",
     "output_type": "stream",
     "text": [
      "dict_items([(1, 'Jim'), (3, 'John'), (2, 'Karen')])\n",
      "[(1, 'Jim'), (2, 'Karen'), (3, 'John')]\n"
     ]
    }
   ],
   "source": [
    "print(people.items())\n",
    "print(sorted(people.items()))"
   ]
  },
  {
   "cell_type": "markdown",
   "id": "0643b0a3",
   "metadata": {},
   "source": [
    "### Narcisstic Numbers"
   ]
  },
  {
   "cell_type": "code",
   "execution_count": 36,
   "id": "5b502214",
   "metadata": {},
   "outputs": [
    {
     "name": "stdout",
     "output_type": "stream",
     "text": [
      "153\n",
      "370\n",
      "371\n",
      "407\n"
     ]
    }
   ],
   "source": [
    "for i in range(100, 1000):\n",
    "    if i == (i//100)**3 + ((i//10)%10)**3 + (i%10)**3:\n",
    "        print(i)"
   ]
  },
  {
   "cell_type": "markdown",
   "id": "12849315",
   "metadata": {},
   "source": [
    "### Intersection of sets"
   ]
  },
  {
   "cell_type": "code",
   "execution_count": 45,
   "id": "36a46ae2",
   "metadata": {},
   "outputs": [
    {
     "data": {
      "text/plain": [
       "{1, 2, 3}"
      ]
     },
     "execution_count": 45,
     "metadata": {},
     "output_type": "execute_result"
    }
   ],
   "source": [
    "set((1,2,3)).intersection(set((1,2,3)))"
   ]
  },
  {
   "cell_type": "markdown",
   "id": "0808c20b",
   "metadata": {},
   "source": [
    "### Dictionaries get()"
   ]
  },
  {
   "cell_type": "code",
   "execution_count": 47,
   "id": "500a7393",
   "metadata": {},
   "outputs": [
    {
     "name": "stdout",
     "output_type": "stream",
     "text": [
      "10 Error\n"
     ]
    }
   ],
   "source": [
    "my_dict = {1:10, 2:1, 3:2}\n",
    "print(my_dict.get(1, \"Error\"), my_dict.get(4, \"Error\"))"
   ]
  },
  {
   "cell_type": "markdown",
   "id": "321f8686",
   "metadata": {},
   "source": [
    "### Concatenate lists"
   ]
  },
  {
   "cell_type": "code",
   "execution_count": 48,
   "id": "6bc58bee",
   "metadata": {},
   "outputs": [
    {
     "name": "stdout",
     "output_type": "stream",
     "text": [
      "[1, 2, 3, 4, 5, 6]\n"
     ]
    }
   ],
   "source": [
    "list1 = [1,2,3]\n",
    "list2 = [4,5,6]\n",
    "print(list1 + list2)"
   ]
  },
  {
   "cell_type": "markdown",
   "id": "b531263f",
   "metadata": {},
   "source": [
    "### Remove elements from list"
   ]
  },
  {
   "cell_type": "code",
   "execution_count": 60,
   "id": "20b345f1",
   "metadata": {},
   "outputs": [
    {
     "name": "stdout",
     "output_type": "stream",
     "text": [
      "[1, 2, 3]\n"
     ]
    }
   ],
   "source": [
    "lst = [1,1,2,3]\n",
    "lst.remove(1)      # Removes first occurence\n",
    "print(lst)"
   ]
  },
  {
   "cell_type": "code",
   "execution_count": 2,
   "id": "fb643387",
   "metadata": {},
   "outputs": [
    {
     "data": {
      "text/plain": [
       "[1, 3, 3]"
      ]
     },
     "execution_count": 2,
     "metadata": {},
     "output_type": "execute_result"
    }
   ],
   "source": [
    "x = [1,2,3,2,2,3]\n",
    "list(filter(lambda a: a!=2, x))"
   ]
  },
  {
   "cell_type": "markdown",
   "id": "47358a87",
   "metadata": {},
   "source": [
    "### Betrag und Runden"
   ]
  },
  {
   "cell_type": "code",
   "execution_count": 13,
   "id": "c4283607",
   "metadata": {},
   "outputs": [
    {
     "name": "stdout",
     "output_type": "stream",
     "text": [
      "5\n",
      "123.46\n",
      "123.45\n",
      "120.0\n"
     ]
    }
   ],
   "source": [
    "print(abs(-5))\n",
    "print(round(123.456, 2))     # 2 Nachkommastellen\n",
    "print(round(123.45, 4))\n",
    "print(round(123.45, -1))     # Auf 10er Stelle runden"
   ]
  },
  {
   "cell_type": "markdown",
   "id": "f93bc74f",
   "metadata": {},
   "source": [
    "### Summe von Listen"
   ]
  },
  {
   "cell_type": "code",
   "execution_count": 17,
   "id": "b7180085",
   "metadata": {},
   "outputs": [
    {
     "data": {
      "text/plain": [
       "10"
      ]
     },
     "execution_count": 17,
     "metadata": {},
     "output_type": "execute_result"
    }
   ],
   "source": [
    "sum([1,2,3,4])"
   ]
  },
  {
   "cell_type": "markdown",
   "id": "a2b8f7ca",
   "metadata": {},
   "source": [
    "### Zahlensysteme"
   ]
  },
  {
   "cell_type": "code",
   "execution_count": 20,
   "id": "0cc13681",
   "metadata": {},
   "outputs": [
    {
     "name": "stdout",
     "output_type": "stream",
     "text": [
      "   122,  1111010,    172,     7a,     7A\n"
     ]
    }
   ],
   "source": [
    "number = 122\n",
    "print(f\"{number:6d}, {number: 6b}, {number:6o}, {number:6x}, {number:6X}\")"
   ]
  },
  {
   "cell_type": "markdown",
   "id": "761b2d84",
   "metadata": {},
   "source": [
    "### Chars and ASCII"
   ]
  },
  {
   "cell_type": "code",
   "execution_count": 26,
   "id": "a572bf6f",
   "metadata": {},
   "outputs": [
    {
     "name": "stdout",
     "output_type": "stream",
     "text": [
      "65\n",
      "A\n"
     ]
    }
   ],
   "source": [
    "print(ord(\"A\"))\n",
    "print(chr(65))"
   ]
  },
  {
   "cell_type": "markdown",
   "id": "317d427a",
   "metadata": {},
   "source": []
  }
 ],
 "metadata": {
  "kernelspec": {
   "display_name": "Python 3 (ipykernel)",
   "language": "python",
   "name": "python3"
  },
  "language_info": {
   "codemirror_mode": {
    "name": "ipython",
    "version": 3
   },
   "file_extension": ".py",
   "mimetype": "text/x-python",
   "name": "python",
   "nbconvert_exporter": "python",
   "pygments_lexer": "ipython3",
   "version": "3.11.5"
  }
 },
 "nbformat": 4,
 "nbformat_minor": 5
}
