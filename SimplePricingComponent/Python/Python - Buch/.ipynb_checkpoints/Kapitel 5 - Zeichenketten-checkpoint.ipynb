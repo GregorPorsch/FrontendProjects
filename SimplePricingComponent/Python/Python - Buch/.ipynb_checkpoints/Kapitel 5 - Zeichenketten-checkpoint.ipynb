{
 "cells": [
  {
   "cell_type": "markdown",
   "id": "030b05ed",
   "metadata": {},
   "source": [
    "# Kapitel 5 - Zeichenktten"
   ]
  },
  {
   "cell_type": "markdown",
   "id": "d7a8fc38",
   "metadata": {},
   "source": [
    "## Grundregeln"
   ]
  },
  {
   "cell_type": "markdown",
   "id": "77899772",
   "metadata": {},
   "source": [
    "- Zeichenketten, die über mehrere Zeilen reichen, werden in dreifachen Apostrophen gestellt"
   ]
  },
  {
   "cell_type": "code",
   "execution_count": 2,
   "id": "a8ea6170",
   "metadata": {},
   "outputs": [
    {
     "name": "stdout",
     "output_type": "stream",
     "text": [
      "Das\n",
      "ist eine\n",
      "lange Zeichenkette.\n"
     ]
    }
   ],
   "source": [
    "s = \"\"\"Das\n",
    "ist eine\n",
    "lange Zeichenkette.\"\"\"\n",
    "print(s)"
   ]
  },
  {
   "cell_type": "markdown",
   "id": "1495821f",
   "metadata": {},
   "source": [
    "- Mit dem Operator + fügt man Zeichenketten aneinander, mit * verfielfacht man Zeichenketten."
   ]
  },
  {
   "cell_type": "code",
   "execution_count": 3,
   "id": "b1c293ea",
   "metadata": {},
   "outputs": [
    {
     "name": "stdout",
     "output_type": "stream",
     "text": [
      "abcefg abcabc\n"
     ]
    }
   ],
   "source": [
    "s1 = \"abc\"; s2 = \"efg\"\n",
    "print(s1 + s2, s1 * 2)"
   ]
  },
  {
   "cell_type": "markdown",
   "id": "58679391",
   "metadata": {},
   "source": [
    "- In Zeichenketten können mit \\ markierte Sonderzeichen eingebettet werden (sog. Escape-Sequenzen).\n",
    "- \\', \\\", \\\\"
   ]
  },
  {
   "cell_type": "markdown",
   "id": "0cb0fc0b",
   "metadata": {},
   "source": [
    "- Wenn jedes \\ als solches gewertet werden soll, stellt man der gesamten Zeichenkette den Buchstaben r voran (Raw-Strings):"
   ]
  },
  {
   "cell_type": "code",
   "execution_count": 8,
   "id": "c87c47b2",
   "metadata": {},
   "outputs": [
    {
     "name": "stdout",
     "output_type": "stream",
     "text": [
      "Ha\\llo \\n\n"
     ]
    }
   ],
   "source": [
    "print(r\"Ha\\llo \\n\")"
   ]
  },
  {
   "cell_type": "markdown",
   "id": "7e8928e2",
   "metadata": {},
   "source": [
    "- Die Funktion chr liefert ein Zeichen, das dem übergegenen ASCII-Code bzw. Unicode entspricht"
   ]
  },
  {
   "cell_type": "code",
   "execution_count": 9,
   "id": "eee7c62e",
   "metadata": {},
   "outputs": [
    {
     "name": "stdout",
     "output_type": "stream",
     "text": [
      "A\n"
     ]
    }
   ],
   "source": [
    "print(chr(65))"
   ]
  },
  {
   "cell_type": "markdown",
   "id": "64452740",
   "metadata": {},
   "source": [
    "- Die Umkehrfunktion ord liefert den ASCII-Code bzw. Unicode zu einem einzelnen Zeichen:"
   ]
  },
  {
   "cell_type": "code",
   "execution_count": 10,
   "id": "0c17dce9",
   "metadata": {},
   "outputs": [
    {
     "name": "stdout",
     "output_type": "stream",
     "text": [
      "65\n"
     ]
    }
   ],
   "source": [
    "print(ord(\"A\"))"
   ]
  },
  {
   "cell_type": "code",
   "execution_count": 3,
   "id": "065f22dc",
   "metadata": {},
   "outputs": [
    {
     "name": "stdout",
     "output_type": "stream",
     "text": [
      "Enthalten\n",
      "False\n"
     ]
    }
   ],
   "source": [
    "if \"Informatik\" in \"Bachelor Informatik\":\n",
    "    print(\"Enthalten\")\n",
    "print(\"HI\"<\"Bye\")        # Alphabetische Sortierung wird zugrund gelegt"
   ]
  },
  {
   "cell_type": "markdown",
   "id": "de389334",
   "metadata": {},
   "source": [
    "## Zugriff auf Teilzeichenketten"
   ]
  },
  {
   "cell_type": "markdown",
   "id": "807544e4",
   "metadata": {},
   "source": [
    "- s[n] liefert das n-te Zeichen zurück.\n",
    "- s[start:ende] liefert die Zeichen von start (inklusive) bis ende (exklusive).\n",
    "- Mit negativen Werten gibt man den Offset vom Ende der Zeichenkette an."
   ]
  },
  {
   "cell_type": "code",
   "execution_count": 11,
   "id": "d06cf214",
   "metadata": {},
   "outputs": [
    {
     "name": "stdout",
     "output_type": "stream",
     "text": [
      "allo\n"
     ]
    }
   ],
   "source": [
    "a = \"hallo\"\n",
    "print(a[-4:])"
   ]
  },
  {
   "cell_type": "markdown",
   "id": "f27a6c85",
   "metadata": {},
   "source": [
    "- Durch einen dritten Parameter (Stride-Parameter) kann eine Schrittweite angegeben werden."
   ]
  },
  {
   "cell_type": "code",
   "execution_count": 12,
   "id": "6d0dcd78",
   "metadata": {},
   "outputs": [
    {
     "name": "stdout",
     "output_type": "stream",
     "text": [
      "acegikmo\n"
     ]
    }
   ],
   "source": [
    "a = \"abcdefghijklmnop\"\n",
    "print(a[::2])            # Jedes zweite Zeichen"
   ]
  },
  {
   "cell_type": "markdown",
   "id": "155a8ebc",
   "metadata": {},
   "source": [
    "- Mit einer negativen Schrittweite kehrt man die Reihenfolge einer Zeichenkette um."
   ]
  },
  {
   "cell_type": "code",
   "execution_count": 14,
   "id": "84c5782c",
   "metadata": {},
   "outputs": [
    {
     "name": "stdout",
     "output_type": "stream",
     "text": [
      "pnljhfdb\n"
     ]
    }
   ],
   "source": [
    "print(a[::-2])"
   ]
  },
  {
   "cell_type": "markdown",
   "id": "2b148e26",
   "metadata": {},
   "source": [
    "## Zeichenkettenfunktionen"
   ]
  },
  {
   "cell_type": "markdown",
   "id": "072c93c0",
   "metadata": {},
   "source": [
    "- len(s): Länge der Zeichenkette\n",
    "- str(s): Wandelt s in einer Zeichenkette um\n",
    "- sub in s: Testet, ob sub in s vorkommt\n",
    "- s.count(sub): Wie oft kommt sub in s vor\n",
    "- s.endswith(sub): Testet, ob s mit sub endet\n",
    "- s.startswith(sub): Testet, ob s mit sub beginnt\n",
    "- s.expandtabs(): Ersetzt Tabulatorzeichen durch Leerzeichen\n",
    "- s.find(sub): Sucht sub in s und liefert die Startposition des ersten Treffers oder -1 zurück\n",
    "- s.islower(): Testet, ob s lowercase ist\n",
    "- s.isdigit(): Testet, ob s nur aus Zahlen besteht\n",
    "- s.join(x): Verbindet die Zeichenketten in x (durch s getrennt)\n",
    "- s.lower(): Liefert s mit lauter Kleinbuchstaben zurück\n",
    "- s.upper(): Liefert s mit lauter Großbuchstaben zurück\n",
    "- s.partition(sub): Trennt s bei sub auf und liefert drei Teile als Tupel zurück\n",
    "- s.replace(old, new): Liefert s zurück, wobei old jeweils durch new ersetzt wird\n",
    "- s.rfind(sub): Wie find, beginnt die Suche aber am Ende der Zeichenkette\n",
    "- s.split(sub): Zerlegt s bei jedem Vorkommen von sub, liefert eine Liste\n",
    "- s.splitlines(): Zerlegt s zeilenweise, liefert eine Liste\n",
    "- s.strip(): Enternt Whitespaces von Beginn und Ende\n",
    "- s.title(): Wandelt die Zeichen in s so um, dass jedes Wort groß geschrieben ist"
   ]
  },
  {
   "cell_type": "code",
   "execution_count": 13,
   "id": "c8b594f0",
   "metadata": {},
   "outputs": [
    {
     "name": "stdout",
     "output_type": "stream",
     "text": [
      "0\n",
      "1a2a3\n",
      "('I ', 'like', ' bananas')\n",
      "1b1c\n",
      "['', 'b', 'c', 'd', ''] ['Das ', 'st e', 'n Test'] ['Hallo', 'Welt']\n",
      "['I', 'like', 'bananas']\n",
      "Hallo Welt\n"
     ]
    }
   ],
   "source": [
    "print(\"ababc\".find(\"ab\"))\n",
    "print(\"a\".join([\"1\", \"2\", \"3\"]))\n",
    "print(\"I like bananas\".partition(\"like\"))\n",
    "print(\"abac\".replace(\"a\", \"1\"))\n",
    "print(\"abacada\".split(\"a\"), \"Das ist ein Test\".split(\"i\"), \"Hallo Welt\".split(\" \"))\n",
    "print(\"I\\nlike\\nbananas\".splitlines())\n",
    "print(\"hallo welt\".title())"
   ]
  },
  {
   "cell_type": "markdown",
   "id": "f733f4f9",
   "metadata": {},
   "source": [
    "### Eigenschaften von Zeichenketten ermitteln"
   ]
  },
  {
   "cell_type": "markdown",
   "id": "71a0024f",
   "metadata": {},
   "source": [
    "- str.isalpha(s): Besteht s nur aus Buchstaben?\n",
    "- str.isdigit(s): Besteht s nur aus Ziffern?\n",
    "- str.isalnum(s): Besteht s nur aus Ziffern oder Buchstaben\n",
    "- str.isascii(s): Besteht s nur aus ASCII-Zeichen\n",
    "- str.islower(s): Besteht s nur aus Kleinbuchstaben\n",
    "- str.isupper(s): Besteht s nur aus Großbuchstaben\n",
    "- str.isnumeric(s): Erkennt auch Spezialzeichen\n",
    "- str.isdecimal(s): Erkennt auch Spezialzeichen"
   ]
  },
  {
   "cell_type": "code",
   "execution_count": 11,
   "id": "852fa3bb",
   "metadata": {},
   "outputs": [
    {
     "name": "stdout",
     "output_type": "stream",
     "text": [
      "True False\n",
      "True False\n",
      "True False\n"
     ]
    }
   ],
   "source": [
    "print(\"123\".isdigit(), \"123.1\".isdigit())\n",
    "print(\"123\".isdecimal(), \"123.1\".isdecimal())\n",
    "print(\"123\".isnumeric(), \"123.1\".isnumeric())"
   ]
  },
  {
   "cell_type": "markdown",
   "id": "70ff0ab3",
   "metadata": {},
   "source": [
    "### Suchen und ersetzen"
   ]
  },
  {
   "cell_type": "markdown",
   "id": "8ae38400",
   "metadata": {},
   "source": [
    "- Mit einem optionalen Parameter kann der Startpunkt der Suche angegeben werden."
   ]
  },
  {
   "cell_type": "code",
   "execution_count": 30,
   "id": "183de5c0",
   "metadata": {},
   "outputs": [
    {
     "name": "stdout",
     "output_type": "stream",
     "text": [
      "1 1 -1\n"
     ]
    }
   ],
   "source": [
    "s = \"abcdefghijkl\"\n",
    "print(s.find(\"bcd\"), s.find(\"bcd\", 1), s.find(\"bcd\", 2))"
   ]
  },
  {
   "cell_type": "markdown",
   "id": "a0b0c07f",
   "metadata": {},
   "source": [
    "- Anstelle von find kann man auch die Methode index verwenden. Sollte das gesuchte Element nicht vorhanden sein, wird aber eine Fehlermeldung ausgelöst."
   ]
  },
  {
   "cell_type": "code",
   "execution_count": 32,
   "id": "1c3fc606",
   "metadata": {},
   "outputs": [
    {
     "data": {
      "text/plain": [
       "2"
      ]
     },
     "execution_count": 32,
     "metadata": {},
     "output_type": "execute_result"
    }
   ],
   "source": [
    "\"abcdecaa\".index(\"c\")"
   ]
  },
  {
   "cell_type": "markdown",
   "id": "199914c3",
   "metadata": {},
   "source": [
    "- replace ersetzt alle Vorkommen einer Suchzeichenkette durch eine andere Zeichenkette."
   ]
  },
  {
   "cell_type": "code",
   "execution_count": 33,
   "id": "fcde72c0",
   "metadata": {},
   "outputs": [
    {
     "data": {
      "text/plain": [
       "'1b1c'"
      ]
     },
     "execution_count": 33,
     "metadata": {},
     "output_type": "execute_result"
    }
   ],
   "source": [
    "\"abac\".replace(\"a\", \"1\")"
   ]
  },
  {
   "cell_type": "markdown",
   "id": "302b235d",
   "metadata": {},
   "source": [
    "## Zeichenketten formatieren und konvertieren"
   ]
  },
  {
   "cell_type": "markdown",
   "id": "f9af6c1b",
   "metadata": {},
   "source": [
    "- Mit der format Methode können Strings formatiert werden."
   ]
  },
  {
   "cell_type": "code",
   "execution_count": 49,
   "id": "1914c7a1",
   "metadata": {},
   "outputs": [
    {
     "name": "stdout",
     "output_type": "stream",
     "text": [
      "Mein Name ist Gregor.\n"
     ]
    }
   ],
   "source": [
    "name = \"Gregor\"\n",
    "print(f\"Mein Name ist {name}.\")"
   ]
  },
  {
   "cell_type": "code",
   "execution_count": 47,
   "id": "38323fec",
   "metadata": {},
   "outputs": [
    {
     "name": "stdout",
     "output_type": "stream",
     "text": [
      "123.46\n"
     ]
    }
   ],
   "source": [
    "zahl = 123.456789\n",
    "print('{:.2f}'.format(zahl))"
   ]
  },
  {
   "cell_type": "code",
   "execution_count": 50,
   "id": "54e2ead0",
   "metadata": {},
   "outputs": [
    {
     "name": "stdout",
     "output_type": "stream",
     "text": [
      "0.14\n"
     ]
    }
   ],
   "source": [
    "print(f\"{1/7:.2}\")            # 1/7 mit zwei Nachkommastellen"
   ]
  },
  {
   "cell_type": "markdown",
   "id": "8ddfcdc7",
   "metadata": {},
   "source": [
    "- Zahl durch Kommas aufteilen:"
   ]
  },
  {
   "cell_type": "code",
   "execution_count": 54,
   "id": "490cae4f",
   "metadata": {},
   "outputs": [
    {
     "name": "stdout",
     "output_type": "stream",
     "text": [
      "1,000,000\n"
     ]
    }
   ],
   "source": [
    "print(f\"{1000000:,}\")"
   ]
  },
  {
   "cell_type": "markdown",
   "id": "4f2bf7f4",
   "metadata": {},
   "source": [
    "- Zahl durch Punkte aufteilen:"
   ]
  },
  {
   "cell_type": "code",
   "execution_count": 58,
   "id": "39dff056",
   "metadata": {},
   "outputs": [
    {
     "name": "stdout",
     "output_type": "stream",
     "text": [
      "1.000.000\n"
     ]
    }
   ],
   "source": [
    "print(f'{1000000:,}'.replace(\",\", \".\"))"
   ]
  },
  {
   "cell_type": "markdown",
   "id": "94cbcb92",
   "metadata": {},
   "source": [
    "## Reguläre Ausdrücke"
   ]
  },
  {
   "cell_type": "markdown",
   "id": "3d3966a1",
   "metadata": {},
   "source": [
    "- Alle Funktionen sind im Modul re gebündelt.\n",
    "- match(pattern, s): Testet, ob s dem Muster pattern entspricht\n",
    "- search(pattern, s): Liefert die Position, an der das Muster vorkommt\n",
    "- split(pattern, s): Zerlegt s bei jedem Vorkommen des Suchmusters\n",
    "- sub(pattern, r, s): Ersetzt das erste gefundene Muster in s durch r"
   ]
  },
  {
   "cell_type": "code",
   "execution_count": 60,
   "id": "eee5bf6c",
   "metadata": {},
   "outputs": [
    {
     "name": "stdout",
     "output_type": "stream",
     "text": [
      "Email Adresse ist ok.\n"
     ]
    }
   ],
   "source": [
    "import re\n",
    "pattern = r\"^[A-Za-z0-9\\.\\+_-]+@[A-Za-z0-9\\._-]+\\.[a-zA-Z]+$\"\n",
    " \n",
    "email = \"porschgregor@gmail.com\"\n",
    "\n",
    "if re.match(pattern, email):\n",
    "    print(\"Email Adresse ist ok.\")\n",
    "else:\n",
    "    print(\"Email Adresse nicht ok.\")"
   ]
  },
  {
   "cell_type": "markdown",
   "id": "05c319a2",
   "metadata": {},
   "source": [
    "- ^: Beginn der Zeichenkette\n",
    "- \\$: Ende der Zeichenkette\n",
    "- .: ein beliebiges Zeichen\n",
    "- [a.z]: ein Kleinbuchstabe zwischen a un dz\n",
    "- [a,b,f-h]: ein Buchstabe aus a, b, f, g und h\n",
    "- [^0-9]: ein beliebiges Zeichen außer 0 bis 9\n",
    "- muster*: das Muster darf beliebig oft vorkommen (0 inklusive)\n",
    "- muster+: das Muster darf beliebig oft vorkommen (mindestens einmal)\n",
    "- \\x: Spezialzeichen angeben (\\\\. steht für .)"
   ]
  }
 ],
 "metadata": {
  "kernelspec": {
   "display_name": "Python 3 (ipykernel)",
   "language": "python",
   "name": "python3"
  },
  "language_info": {
   "codemirror_mode": {
    "name": "ipython",
    "version": 3
   },
   "file_extension": ".py",
   "mimetype": "text/x-python",
   "name": "python",
   "nbconvert_exporter": "python",
   "pygments_lexer": "ipython3",
   "version": "3.11.5"
  }
 },
 "nbformat": 4,
 "nbformat_minor": 5
}
