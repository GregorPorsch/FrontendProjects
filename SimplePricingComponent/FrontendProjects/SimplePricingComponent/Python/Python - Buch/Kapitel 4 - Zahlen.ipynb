{
 "cells": [
  {
   "cell_type": "markdown",
   "id": "c639f2b0",
   "metadata": {},
   "source": [
    "# Kapitel 4 - Zahlen"
   ]
  },
  {
   "cell_type": "markdown",
   "id": "f2e90b0f",
   "metadata": {},
   "source": [
    "## Ganze Zahlen"
   ]
  },
  {
   "cell_type": "markdown",
   "id": "f3d90e44",
   "metadata": {},
   "source": [
    "- In Python ist die Größe von ganzen Zahlen nur durch den Speicherplatz limitiert.\n",
    "- Bei einer gewöhnlichen Division erhält man immer eine Fließkommazahl als Ergebnis (ansonsten explizit // verwenden)."
   ]
  },
  {
   "cell_type": "code",
   "execution_count": 3,
   "id": "d3069b45",
   "metadata": {},
   "outputs": [
    {
     "name": "stdout",
     "output_type": "stream",
     "text": [
      "0.6666666666666666 2.0\n"
     ]
    }
   ],
   "source": [
    "print(2/3, 6/3)"
   ]
  },
  {
   "cell_type": "markdown",
   "id": "7011781b",
   "metadata": {},
   "source": [
    "### Binäre und hexadezimale Zahlen"
   ]
  },
  {
   "cell_type": "markdown",
   "id": "2da47eaa",
   "metadata": {},
   "source": [
    "- Zahlen, die mit **0x** beginnen, interpretiert Python als hexadezimal. Umgekehrt kann man auch eine vorhandene Zahl mit der Funktion **hex** in eine hexadezimale Darstellung umwandeln:"
   ]
  },
  {
   "cell_type": "code",
   "execution_count": 5,
   "id": "332e8a0a",
   "metadata": {},
   "outputs": [
    {
     "name": "stdout",
     "output_type": "stream",
     "text": [
      "160 0x14\n"
     ]
    }
   ],
   "source": [
    "print(0xa0, hex(20))"
   ]
  },
  {
   "cell_type": "markdown",
   "id": "8e5576a6",
   "metadata": {},
   "source": [
    "- Analog werden mit **0b** eingeleitete Zahlen binär interpretiert. Die **bin** Funktion liefert von einer ganzen Zahl die entsprechende binäre Darstellung.\n",
    "- Für oktale Zahlen verwendet man den Präfix **0o** bzw. die Funktion **oct**."
   ]
  },
  {
   "cell_type": "code",
   "execution_count": 7,
   "id": "afab9eed",
   "metadata": {},
   "outputs": [
    {
     "name": "stdout",
     "output_type": "stream",
     "text": [
      "17 0b10001\n"
     ]
    }
   ],
   "source": [
    "print(0b10001, bin(17))"
   ]
  },
  {
   "cell_type": "code",
   "execution_count": 8,
   "id": "e10525bf",
   "metadata": {},
   "outputs": [
    {
     "name": "stdout",
     "output_type": "stream",
     "text": [
      "124 0o21\n"
     ]
    }
   ],
   "source": [
    "print(0o174, oct(17))"
   ]
  },
  {
   "cell_type": "markdown",
   "id": "93223ff1",
   "metadata": {},
   "source": [
    "### Zufallszahlen"
   ]
  },
  {
   "cell_type": "markdown",
   "id": "837207a4",
   "metadata": {},
   "source": [
    "- Ganzzahlige Zufallszahlen werden mit der Funktion randint aus dem random-Modul erzeugt. randint(min, max) liefert ganze Zahlen, die die Grenzwerte min und max einschließen."
   ]
  },
  {
   "cell_type": "code",
   "execution_count": 10,
   "id": "f498a59d",
   "metadata": {},
   "outputs": [
    {
     "name": "stdout",
     "output_type": "stream",
     "text": [
      "5\n"
     ]
    }
   ],
   "source": [
    "from random import randint\n",
    "print(randint(0, 7))            # Zufallszahl zwischen 0 (inklusive) und 7 (inklusive)"
   ]
  },
  {
   "cell_type": "markdown",
   "id": "a617579a",
   "metadata": {},
   "source": [
    "- random liefert Zahlen zwischen 0 (inklusive) und 1 (exklusive). \n",
    "- uniform(min, max) liefert Zahlen zwischen min (inklusive) und max (kann inklusive sein, hängt von den Rundungsfehlern ab)"
   ]
  },
  {
   "cell_type": "code",
   "execution_count": 13,
   "id": "3fb481e2",
   "metadata": {},
   "outputs": [
    {
     "name": "stdout",
     "output_type": "stream",
     "text": [
      "0.17541978627295807 6.9717414182783095\n"
     ]
    }
   ],
   "source": [
    "from random import random, uniform\n",
    "print(random(), uniform(2.0, 7.5))"
   ]
  },
  {
   "cell_type": "markdown",
   "id": "a6b8b793",
   "metadata": {},
   "source": [
    "## Fließkommazahlen"
   ]
  },
  {
   "cell_type": "markdown",
   "id": "f146168d",
   "metadata": {},
   "source": [
    "- Fließkommazahlen werden in Python üblicherweise im 64-Bit-Format dargestellt. Die größte darstellbare Zahl ist damit 2*10^308, die Anzahl der Kommastellen beträgt 16.\n",
    "- Gängige mathematische Funktionen befinden sich im math-Modul."
   ]
  },
  {
   "cell_type": "code",
   "execution_count": 11,
   "id": "5334ab33",
   "metadata": {},
   "outputs": [
    {
     "name": "stdout",
     "output_type": "stream",
     "text": [
      "1.4142135623730951 0.3894183423086505\n"
     ]
    }
   ],
   "source": [
    "import math\n",
    "print(math.sqrt(2), math.sin(0.4))"
   ]
  },
  {
   "cell_type": "markdown",
   "id": "9227c833",
   "metadata": {},
   "source": [
    "### Rundungsfehler"
   ]
  },
  {
   "cell_type": "markdown",
   "id": "dca786b3",
   "metadata": {},
   "source": [
    "- Bei Berechnungen mit Fließkommazahlen kommt es zu Rundungsfehlern aufgrund der binären Darstellung von Zahlen und ist unvermeidbar."
   ]
  },
  {
   "cell_type": "code",
   "execution_count": 12,
   "id": "e3387106",
   "metadata": {},
   "outputs": [
    {
     "name": "stdout",
     "output_type": "stream",
     "text": [
      "False -1.1102230246251565e-16\n"
     ]
    }
   ],
   "source": [
    "a = 0.7; b = 0.9; c = a + 0.1; d = b - 0.1\n",
    "print(c==d, c-d)"
   ]
  },
  {
   "cell_type": "markdown",
   "id": "74b23644",
   "metadata": {},
   "source": [
    "## Komplexe Zahlen, Brüche und Festkommazahlen"
   ]
  },
  {
   "cell_type": "markdown",
   "id": "0a8c253e",
   "metadata": {},
   "source": [
    "### Komplexe Zahlen"
   ]
  },
  {
   "cell_type": "markdown",
   "id": "12cb0341",
   "metadata": {},
   "source": [
    "- Der Imaginärteil wird durch den Buchstaben j oder J dargestellt. Aus einer gegebenen komplexen Zahl können diese Bestandteile den Eigenschaften real und imag entnommen werden."
   ]
  },
  {
   "cell_type": "code",
   "execution_count": 14,
   "id": "9c39cf12",
   "metadata": {},
   "outputs": [
    {
     "name": "stdout",
     "output_type": "stream",
     "text": [
      "(14-5j) <class 'complex'> 14.0 -5.0\n"
     ]
    }
   ],
   "source": [
    "x = 2+3j; y = 1-4j; z = x*y\n",
    "print(z, type(z), z.real, z.imag)"
   ]
  },
  {
   "cell_type": "markdown",
   "id": "4c9708be",
   "metadata": {},
   "source": [
    "- Komplexe Zahlen können auch mit **complex** aus zwei Fließkommazahlen gebildet werden, die den Real- und Imaginärteil angeben."
   ]
  },
  {
   "cell_type": "code",
   "execution_count": 15,
   "id": "9a3cf47b",
   "metadata": {},
   "outputs": [
    {
     "data": {
      "text/plain": [
       "(0.5-0.7j)"
      ]
     },
     "execution_count": 15,
     "metadata": {},
     "output_type": "execute_result"
    }
   ],
   "source": [
    "complex(0.5, -0.7)"
   ]
  },
  {
   "cell_type": "markdown",
   "id": "c60efb19",
   "metadata": {},
   "source": [
    "- Die Funktionen aus math kommen nicht auf komplexe Zahlen klar, weshalb man auf das Modul cmath zurückgreifen muss."
   ]
  },
  {
   "cell_type": "code",
   "execution_count": 16,
   "id": "e71839fb",
   "metadata": {},
   "outputs": [
    {
     "name": "stdout",
     "output_type": "stream",
     "text": [
      "1j 1.5707963267948966\n"
     ]
    }
   ],
   "source": [
    "import cmath\n",
    "print(cmath.sqrt(-1), cmath.phase(1j))"
   ]
  },
  {
   "cell_type": "markdown",
   "id": "639499d4",
   "metadata": {},
   "source": [
    "### Rationale Zahlen und Brüche"
   ]
  },
  {
   "cell_type": "markdown",
   "id": "292541a6",
   "metadata": {},
   "source": [
    "- Das Modul fractions stellt Funktionen zur Verfügung, die ohne Rundungsfehler mit rationalen Zahlen bzw. Brüchen arbeiten."
   ]
  },
  {
   "cell_type": "code",
   "execution_count": 17,
   "id": "62799b97",
   "metadata": {},
   "outputs": [
    {
     "name": "stdout",
     "output_type": "stream",
     "text": [
      "5/6\n"
     ]
    }
   ],
   "source": [
    "from fractions import Fraction\n",
    "x = Fraction(\"1/3\"); y = Fraction(\"1/2\")\n",
    "print(x+y)"
   ]
  },
  {
   "cell_type": "markdown",
   "id": "1c20c9b9",
   "metadata": {},
   "source": [
    "### Dezimalzahlen"
   ]
  },
  {
   "cell_type": "markdown",
   "id": "7c82320b",
   "metadata": {},
   "source": [
    "- Das decimal Modul bietet eine Alternatife zu den üblichen Fließkommazahlen an. Solange 28 Stellen nicht überschritten werden, erfolgen die Berechnungen exakt und ohne Rundungsfehler."
   ]
  },
  {
   "cell_type": "code",
   "execution_count": 19,
   "id": "002f8019",
   "metadata": {},
   "outputs": [
    {
     "name": "stdout",
     "output_type": "stream",
     "text": [
      "True 0.0\n"
     ]
    }
   ],
   "source": [
    "from decimal import * \n",
    "a = Decimal(\"0.7\"); b = Decimal(\"0.9\"); c = a + Decimal(\"0.1\"); d = b - Decimal(\"0.1\")\n",
    "print(c==d, c-d)"
   ]
  },
  {
   "cell_type": "markdown",
   "id": "d20c0750",
   "metadata": {},
   "source": [
    "- Die Stellenanzahl (28) kann aber mit getcontext().prec = n frei eingestellt werden.\n",
    "- Die Berechnungen mit Decimal erfolgen jedoch deutlich langsamer als mit normalen Fließkommazahlen."
   ]
  },
  {
   "cell_type": "markdown",
   "id": "bce24f40",
   "metadata": {},
   "source": [
    "## Boolesche Werte"
   ]
  },
  {
   "cell_type": "markdown",
   "id": "3ae42248",
   "metadata": {},
   "source": [
    "- Mit Tilde werden boolesche Werte invertiert."
   ]
  },
  {
   "cell_type": "code",
   "execution_count": 21,
   "id": "bd9248ba",
   "metadata": {},
   "outputs": [
    {
     "name": "stdout",
     "output_type": "stream",
     "text": [
      "-1\n"
     ]
    }
   ],
   "source": [
    "a = False; print(~a)            # ???"
   ]
  },
  {
   "cell_type": "markdown",
   "id": "2a0a701e",
   "metadata": {},
   "source": [
    "- Boolesche Werte können mit int in Zahlen umgewandelt werden."
   ]
  },
  {
   "cell_type": "code",
   "execution_count": 23,
   "id": "a922a853",
   "metadata": {},
   "outputs": [
    {
     "name": "stdout",
     "output_type": "stream",
     "text": [
      "1 0\n",
      "True\n"
     ]
    }
   ],
   "source": [
    "print(int(True), int(False))\n",
    "if 7:\n",
    "    print(True)"
   ]
  }
 ],
 "metadata": {
  "kernelspec": {
   "display_name": "Python 3 (ipykernel)",
   "language": "python",
   "name": "python3"
  },
  "language_info": {
   "codemirror_mode": {
    "name": "ipython",
    "version": 3
   },
   "file_extension": ".py",
   "mimetype": "text/x-python",
   "name": "python",
   "nbconvert_exporter": "python",
   "pygments_lexer": "ipython3",
   "version": "3.11.5"
  }
 },
 "nbformat": 4,
 "nbformat_minor": 5
}
