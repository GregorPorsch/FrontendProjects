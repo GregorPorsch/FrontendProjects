{
 "cells": [
  {
   "cell_type": "markdown",
   "id": "52172ca3",
   "metadata": {},
   "source": [
    "# Kapitel 3 - Operatoren"
   ]
  },
  {
   "cell_type": "markdown",
   "id": "e6870917",
   "metadata": {},
   "source": [
    "## Überblick"
   ]
  },
  {
   "cell_type": "markdown",
   "id": "94524c54",
   "metadata": {},
   "source": [
    "- \\*\\*: Potenz\n",
    "- //: ganzzahlige Division\n",
    "- &: Matrixmultiplikation\n",
    "- \\+, \\*: Strings verbinden bzw. verfielfachen\n",
    "- %: Zeichenkette formatieren\n",
    "- is: testen, ob zwei Variablen auf dasselbe Objekt zeigen\n",
    "- in: testen, ob ein Element in einer Aufzählung enthalten ist\n",
    "- fmt % data: Daten formatieren\n",
    "- &, |: binäres Und und binäres Oder\n",
    "- ^: binäres Exklusiv-Oder\n",
    "- ~: binäres Nicht\n",
    "- \\<\\<: binäres nach links schieben (2<<4 ergibt 32)\n",
    "- \\>\\>: binäres nach rechts schieben\n",
    "- |: Vereinigung ({1, 2} | {2, 3} ergibt {1, 2, 3})\n",
    "- -: Differenz ({1, 2} - {2, 3} liefert {1})\n",
    "- &: Schnittmenge ({1, 2} & {2, 3} liefert {2})\n",
    "- ^: symmetrische Differenz ({1, 2} ^ {2, 3} liefert {1, 3})"
   ]
  },
  {
   "cell_type": "markdown",
   "id": "1517936e",
   "metadata": {},
   "source": [
    "## Details und Sonderfälle"
   ]
  },
  {
   "cell_type": "markdown",
   "id": "8236e64f",
   "metadata": {},
   "source": [
    "- / führt in Python immer einer Fließkommazahldivision durch (6 / 2 liefert also 3.0)\n",
    "- es gibt kein x++ oder x--"
   ]
  },
  {
   "cell_type": "code",
   "execution_count": 2,
   "id": "bad77bcb",
   "metadata": {},
   "outputs": [
    {
     "name": "stdout",
     "output_type": "stream",
     "text": [
      "True\n"
     ]
    }
   ],
   "source": [
    "print(7 in [1, 2, 3, 7])"
   ]
  },
  {
   "cell_type": "markdown",
   "id": "c64150d3",
   "metadata": {},
   "source": [
    "### Binäre vs. logische Operatoren"
   ]
  },
  {
   "cell_type": "markdown",
   "id": "cbc856c6",
   "metadata": {},
   "source": [
    "- Binäre Operatoren funktionieren wie Rechenoperatoren. Sie bilden aus zwei ganzen Zahlen eine neue ganze Zahl, wobei der jeweilige Operator auf die binäre Darstellung der Zahl angewendet wird.\n",
    "- 27 & 7 ergibt beispielsweise 3, da 27 in binärer Darstellung 11011 entspricht, 7 in Binärform 00111 entspricht und der Und-Operator für jede Bitposition prüft, ob beide Ausgangszahlen den Zustand 1 aufweisen.\n",
    "- Logische Operatoren dienen hingegen zur Verarbeitung von booleschen Zuständen (True und False). "
   ]
  },
  {
   "cell_type": "markdown",
   "id": "73c29414",
   "metadata": {},
   "source": [
    "### Short Circuit Evaluation"
   ]
  },
  {
   "cell_type": "markdown",
   "id": "c0df4d67",
   "metadata": {},
   "source": [
    "- and und or unterstützen die sog. Short-Circuit-Evaluation: Dabei wird die Auswertung abgebrochen, sobald das Ergebnis feststeht\n",
    "- Bei and endet die Auswertung bei ersten False-Teilergebnis\n",
    "- Bei or endet die Auswertung beim ersten True-Teilergebnis"
   ]
  },
  {
   "cell_type": "markdown",
   "id": "583460fe",
   "metadata": {},
   "source": [
    "### Variablen und Daten vergleichen"
   ]
  },
  {
   "cell_type": "markdown",
   "id": "9a03604f",
   "metadata": {},
   "source": [
    "- Mit == werden Daten bzw. der Inhalt von Objekten verglichen."
   ]
  },
  {
   "cell_type": "code",
   "execution_count": 5,
   "id": "494d07bf",
   "metadata": {},
   "outputs": [
    {
     "name": "stdout",
     "output_type": "stream",
     "text": [
      "True\n"
     ]
    }
   ],
   "source": [
    "a = \"abc\"; b = \"abc\"; print(a == b)"
   ]
  },
  {
   "cell_type": "markdown",
   "id": "3ed719dd",
   "metadata": {},
   "source": [
    "- Im nachfolgenden Beispiel verweisen a und b intern auf dasselbe Objekt:"
   ]
  },
  {
   "cell_type": "code",
   "execution_count": 6,
   "id": "bbe085e9",
   "metadata": {},
   "outputs": [
    {
     "name": "stdout",
     "output_type": "stream",
     "text": [
      "True\n"
     ]
    }
   ],
   "source": [
    "a = \"abc\"; b = a; print(a is b)"
   ]
  },
  {
   "cell_type": "markdown",
   "id": "092d3bab",
   "metadata": {},
   "source": [
    "- Da a und b im nachfolgenden Beispiel auf ganz unterschiedliche Art und Weise gebildet werden, verweisen sie auf unterschiedlichen Objekte und der Vergleich a is b trifft nicht zu:"
   ]
  },
  {
   "cell_type": "code",
   "execution_count": 7,
   "id": "2eb0ea82",
   "metadata": {},
   "outputs": [
    {
     "name": "stdout",
     "output_type": "stream",
     "text": [
      "True False\n"
     ]
    }
   ],
   "source": [
    "a = [\"a\", \"b\", \"c\"]; b = [\"a\", \"b\"]; b.append(\"c\");\n",
    "print(a == b, a is b)"
   ]
  },
  {
   "cell_type": "markdown",
   "id": "2635198d",
   "metadata": {},
   "source": [
    "### Mehrfachvergleiche"
   ]
  },
  {
   "cell_type": "markdown",
   "id": "6361f52c",
   "metadata": {},
   "source": [
    "- Bei den Vergleichsoperatoren sind auch Mehrfachvergleiche möglich. "
   ]
  },
  {
   "cell_type": "code",
   "execution_count": 12,
   "id": "ed66f7c5",
   "metadata": {},
   "outputs": [
    {
     "data": {
      "text/plain": [
       "True"
      ]
     },
     "execution_count": 12,
     "metadata": {},
     "output_type": "execute_result"
    }
   ],
   "source": [
    "10 <= 20 <= 30"
   ]
  },
  {
   "cell_type": "markdown",
   "id": "e8ed4ccd",
   "metadata": {},
   "source": [
    "### Operator-Modul"
   ]
  },
  {
   "cell_type": "markdown",
   "id": "59f6e643",
   "metadata": {},
   "source": [
    "- Das Modul operator enthält zu allen Python-Operatoren entsprechende Funktionen:"
   ]
  },
  {
   "cell_type": "code",
   "execution_count": 11,
   "id": "e12d1c36",
   "metadata": {},
   "outputs": [
    {
     "data": {
      "text/plain": [
       "70"
      ]
     },
     "execution_count": 11,
     "metadata": {},
     "output_type": "execute_result"
    }
   ],
   "source": [
    "import operator\n",
    "operator.mul(operator.add(3, 7), 7)"
   ]
  },
  {
   "cell_type": "code",
   "execution_count": 13,
   "id": "785158c5",
   "metadata": {},
   "outputs": [
    {
     "data": {
      "text/plain": [
       "0"
      ]
     },
     "execution_count": 13,
     "metadata": {},
     "output_type": "execute_result"
    }
   ],
   "source": [
    "255 % 17"
   ]
  }
 ],
 "metadata": {
  "kernelspec": {
   "display_name": "Python 3 (ipykernel)",
   "language": "python",
   "name": "python3"
  },
  "language_info": {
   "codemirror_mode": {
    "name": "ipython",
    "version": 3
   },
   "file_extension": ".py",
   "mimetype": "text/x-python",
   "name": "python",
   "nbconvert_exporter": "python",
   "pygments_lexer": "ipython3",
   "version": "3.11.5"
  }
 },
 "nbformat": 4,
 "nbformat_minor": 5
}
