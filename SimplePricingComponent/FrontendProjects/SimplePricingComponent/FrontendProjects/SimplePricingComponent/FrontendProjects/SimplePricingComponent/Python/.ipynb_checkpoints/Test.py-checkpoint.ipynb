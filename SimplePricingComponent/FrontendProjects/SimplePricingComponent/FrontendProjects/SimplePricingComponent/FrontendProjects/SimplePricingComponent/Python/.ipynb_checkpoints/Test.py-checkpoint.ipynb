{
 "cells": [
  {
   "cell_type": "code",
   "execution_count": 1,
   "id": "229256c5",
   "metadata": {},
   "outputs": [
    {
     "name": "stdout",
     "output_type": "stream",
     "text": [
      "Super\n"
     ]
    }
   ],
   "source": [
    "if (10 < 9):\n",
    "    print(\"Scheisse\")\n",
    "else:\n",
    "    print(\"Super\")"
   ]
  }
 ],
 "metadata": {
  "kernelspec": {
   "display_name": "Python 3 (ipykernel)",
   "language": "python",
   "name": "python3"
  },
  "language_info": {
   "codemirror_mode": {
    "name": "ipython",
    "version": 3
   },
   "file_extension": ".py",
   "mimetype": "text/x-python",
   "name": "python",
   "nbconvert_exporter": "python",
   "pygments_lexer": "ipython3",
   "version": "3.11.5"
  }
 },
 "nbformat": 4,
 "nbformat_minor": 5
}
