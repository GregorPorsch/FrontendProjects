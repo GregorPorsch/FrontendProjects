{
 "cells": [
  {
   "cell_type": "markdown",
   "id": "c114a641",
   "metadata": {},
   "source": [
    "# Kapitel 11 - Objektorientierte Programmierung"
   ]
  },
  {
   "cell_type": "markdown",
   "id": "1928b9f4",
   "metadata": {},
   "source": [
    "## Crashkurs"
   ]
  },
  {
   "cell_type": "markdown",
   "id": "636cc39a",
   "metadata": {},
   "source": [
    "- Klassenvariablen gehören zur Klasse an sich. Sie werden zwischen der Klasse und all ihren Instanzen geteilt. Der Zugriff von außen erfolgt über Klassenname.varname\n",
    "- Instanzvariablen werden im Konstruktor mit self.varname = ... initialisiert. Instanzvariablen gehören zu einem konkreten Objekt. \n",
    "- Zustätzlich gibt es wie bei Funktionen lokale Variablen: Wenn eine Variable ohne vorangestelltes self in einer Methode verwendet wird, dann beschränken sich die Gültigkeit und Lebensdauer dieser Varialben auf die Methode."
   ]
  },
  {
   "cell_type": "markdown",
   "id": "424ced3b",
   "metadata": {},
   "source": [
    "### Konstruktor"
   ]
  },
  {
   "cell_type": "markdown",
   "id": "9e31528d",
   "metadata": {},
   "source": [
    "- Beim Erzeugen eines Objekts werden desse Daten initialisiert. Diese Initalisierung ist Aufgabe des Konstruktors. Ein Konstruktor hat den Namen \\_\\_init__ (__ steht immer für Python-interne Spezialfunktionen). Der erste Parameter muss immer **self** sein. self bezieht sich auf das konkrete Objekt (die Instanz), das im Konstruktor initialisiert bzw. in den Methoden bearbeitet werden soll."
   ]
  },
  {
   "cell_type": "code",
   "execution_count": 5,
   "id": "c02a7c79",
   "metadata": {},
   "outputs": [
    {
     "name": "stdout",
     "output_type": "stream",
     "text": [
      "40 26\n"
     ]
    }
   ],
   "source": [
    "class Rectangle():\n",
    "    # Konstruktor, initialisiert w und h mit Startposition\n",
    "    def __init__(self, width, height):\n",
    "        self.w = width\n",
    "        self.h = height\n",
    "        \n",
    "    def area(self):\n",
    "        return self.w * self.h\n",
    "    \n",
    "    def perimeter(self):\n",
    "        return 2 * (self.w + self.h)\n",
    "    \n",
    "r = Rectangle(8,5)\n",
    "print(r.area(), r.perimeter())"
   ]
  },
  {
   "cell_type": "markdown",
   "id": "3dbac30b",
   "metadata": {},
   "source": [
    "## Klassen- und Instanzvariablen"
   ]
  },
  {
   "cell_type": "code",
   "execution_count": 7,
   "id": "656e36c9",
   "metadata": {},
   "outputs": [
    {
     "name": "stdout",
     "output_type": "stream",
     "text": [
      "Instanzvariablen von obj: 3, 4, Klassenvariablen von MyClass: 42\n"
     ]
    }
   ],
   "source": [
    "class MyClass():\n",
    "    class_variable = 42           # Klassenvariable\n",
    "    \n",
    "    def __init__(self, some_data, other_data):\n",
    "        some_var = 123\n",
    "        self.data = some_data\n",
    "        self.other = other_data\n",
    "        \n",
    "obj = MyClass(3, 4)\n",
    "print(f\"Instanzvariablen von obj: {obj.data}, {obj.other}, Klassenvariablen von MyClass: {MyClass.class_variable}\")"
   ]
  },
  {
   "cell_type": "markdown",
   "id": "46298f2b",
   "metadata": {},
   "source": [
    "### Private Instanzvariablen"
   ]
  },
  {
   "cell_type": "markdown",
   "id": "5ba0c98c",
   "metadata": {},
   "source": [
    "- Es gibt in Python keine privaten Attribute und somit weder private Methoden noch private Instanzvariablen. \n",
    "- Es gelten folgende Konventionen:\n",
    "    - Attribute (Variablen/Methoden), deren Namen mit einem **Unterstrich beginnen**, gelten als **privat**. Wer auch immer eine Klasse nutzt, die derartige Variablen enthält, sollte auf diese Variable von außen nicht zugreifen.\n",
    "    - Wenn man Attributsnamen zwei Unterstriche voranstellt, führt Python ein sog. Name Mangling durch und ersetzt **\\_\\_varname durch _klassenname_varname**. Die Variable ist somit besser vor irrtümlichen Zugriffen geschützt."
   ]
  },
  {
   "cell_type": "markdown",
   "id": "f6196e49",
   "metadata": {},
   "source": [
    "## Methoden"
   ]
  },
  {
   "cell_type": "markdown",
   "id": "2b609e08",
   "metadata": {},
   "source": [
    "- Instanzmethoden können nur aufgerufen werden, wenn zuvor ein Objekt erzeugt wurde.\n",
    "- Statische Methoden funktionieren auch ohne Objekte. In der Klasse werden solche Methoden ohne self formuliert. Um klarzustellen, dass die Methode statisch ist, sollte der Methodendefinition der **Decorator @staticmethod** vorangestellt werden, damit es beim Aufruf der Methode keine Missverständnisse gibt.\n",
    "- Decorators werden mit @ eingeleitet und dienen als Zusatzattribute für Funktionen, Methoden oder Klassen. Sie können die Intention verdeutlichen und Informationen an den Interpreter weitergeben."
   ]
  },
  {
   "cell_type": "code",
   "execution_count": 12,
   "id": "d632d900",
   "metadata": {},
   "outputs": [
    {
     "name": "stdout",
     "output_type": "stream",
     "text": [
      "70\n",
      "25\n"
     ]
    }
   ],
   "source": [
    "class Rectangle():\n",
    "    def __init__(self, height, width):\n",
    "        self._height = height\n",
    "        self._width = width\n",
    "    \n",
    "    def area(self):\n",
    "        return self._height * self._width\n",
    "    \n",
    "    @staticmethod\n",
    "    def sarea(width, height):\n",
    "        return width * height\n",
    "    \n",
    "    @staticmethod \n",
    "    def create_quad(length):\n",
    "        return Rectangle(length, length)\n",
    "    \n",
    "print(Rectangle.sarea(7, 10))\n",
    "print(Rectangle.create_quad(5).area())"
   ]
  },
  {
   "cell_type": "markdown",
   "id": "3da5586f",
   "metadata": {},
   "source": [
    "### Getter- und Setter-Methoden"
   ]
  },
  {
   "cell_type": "markdown",
   "id": "bef69c60",
   "metadata": {},
   "source": [
    "- Ein Ziel der OOP ist die Kapselung: Private Instanzvariablen können nur von innen verändert werden\n",
    "1. Schritt: dem Namen der Instanzvariable \\_ bzw. \\_\\_ voranstellen und hoffen, dass die Anwender der Klasse auf direkte Variablenzugriffe verzichten\n",
    "2. Schritt: Zugriff auf derart private Methoden durch Methoden ermöglichen (üblicherweise get und set)\n",
    "- In Python heißen diese beiden Methoden gleich, allerdings kennzeichnet man die get-Method mit **@property** und die set-Methode mit **@varname.setter**. Die @property Methode muss zuerst definiert werden!"
   ]
  },
  {
   "cell_type": "code",
   "execution_count": null,
   "id": "27a25ff3",
   "metadata": {},
   "outputs": [],
   "source": []
  }
 ],
 "metadata": {
  "kernelspec": {
   "display_name": "Python 3 (ipykernel)",
   "language": "python",
   "name": "python3"
  },
  "language_info": {
   "codemirror_mode": {
    "name": "ipython",
    "version": 3
   },
   "file_extension": ".py",
   "mimetype": "text/x-python",
   "name": "python",
   "nbconvert_exporter": "python",
   "pygments_lexer": "ipython3",
   "version": "3.11.5"
  }
 },
 "nbformat": 4,
 "nbformat_minor": 5
}
