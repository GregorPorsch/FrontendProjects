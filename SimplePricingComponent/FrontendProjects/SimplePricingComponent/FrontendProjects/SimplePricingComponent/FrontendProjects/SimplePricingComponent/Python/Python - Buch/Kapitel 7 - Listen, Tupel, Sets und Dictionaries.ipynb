{
 "cells": [
  {
   "cell_type": "markdown",
   "id": "853dc0c9",
   "metadata": {},
   "source": [
    "# Kapitel 7 - Listen, Tupel, Sets und Dictionaries"
   ]
  },
  {
   "cell_type": "markdown",
   "id": "fa3a8704",
   "metadata": {},
   "source": [
    "- Listen: Variable Anzahl an Elementen, Ordnung bleibt erhalten, es können jederzeit und an jeder beliebigen Stelle Elemente hinzugefügt werden\n",
    "- Tupel (Sequenzen): unveränderliche Liste\n",
    "- Sets: Menge von ungeordneten Elementen ohne Doppelgänger\n",
    "- Dictionaries: Speicherung von Key-Value-Paaren, Zugriff auf einzelne Werte über einen Schlüssel, nicht über einen durchlaufenden Index\n",
    "- Arrays: Elementzahl von vornherein festgelegt und konstant, weniger flexibel als Listen, dafür bei vielen Elementen effizienter"
   ]
  },
  {
   "cell_type": "markdown",
   "id": "094232d2",
   "metadata": {},
   "source": [
    "## Listen"
   ]
  },
  {
   "cell_type": "markdown",
   "id": "31cd0512",
   "metadata": {},
   "source": [
    "### Slicing"
   ]
  },
  {
   "cell_type": "code",
   "execution_count": 3,
   "id": "1652f6bd",
   "metadata": {},
   "outputs": [
    {
     "name": "stdout",
     "output_type": "stream",
     "text": [
      "[5, 6, 7, 8, 9] [0, 1, 2, 3, 4] [5, 4, 3, 2]\n"
     ]
    }
   ],
   "source": [
    "lst = list(range(0,10))\n",
    "print(lst[5:], lst[:5], lst[5:1:-1])"
   ]
  },
  {
   "cell_type": "markdown",
   "id": "3107f586",
   "metadata": {},
   "source": [
    "- list(range(0,10,2)): Erzeugung einer Liste, die alle geraden Zahlen bis zur 10 (exklusive) enthält"
   ]
  },
  {
   "cell_type": "code",
   "execution_count": 8,
   "id": "894ac0e7",
   "metadata": {},
   "outputs": [
    {
     "data": {
      "text/plain": [
       "[0, 2, 4, 6, 8]"
      ]
     },
     "execution_count": 8,
     "metadata": {},
     "output_type": "execute_result"
    }
   ],
   "source": [
    "list(range(0,10,2))"
   ]
  },
  {
   "cell_type": "markdown",
   "id": "32a7e2e7",
   "metadata": {},
   "source": [
    "- Die Zeichen einer Zeichenkette wandelt man mit **list** in eine Liste um"
   ]
  },
  {
   "cell_type": "code",
   "execution_count": 9,
   "id": "78ab432b",
   "metadata": {},
   "outputs": [
    {
     "data": {
      "text/plain": [
       "['H', 'a', 'l', 'l', 'o', ' ', 'W', 'e', 'l', 't', '!']"
      ]
     },
     "execution_count": 9,
     "metadata": {},
     "output_type": "execute_result"
    }
   ],
   "source": [
    "list(\"Hallo Welt!\")"
   ]
  },
  {
   "cell_type": "markdown",
   "id": "b3da4e6d",
   "metadata": {},
   "source": [
    "- Listen werden über **join** zu einer Zeichenkette zusammengefügt"
   ]
  },
  {
   "cell_type": "code",
   "execution_count": 11,
   "id": "6eb74777",
   "metadata": {},
   "outputs": [
    {
     "data": {
      "text/plain": [
       "'HalloWelt!'"
      ]
     },
     "execution_count": 11,
     "metadata": {},
     "output_type": "execute_result"
    }
   ],
   "source": [
    "\"\".join([\"Hallo\", \"Welt\", \"!\"])        # \"\" ist das Trennzeichen zwischen den Elementen"
   ]
  },
  {
   "cell_type": "markdown",
   "id": "4f755dca",
   "metadata": {},
   "source": [
    "### List Comprehension"
   ]
  },
  {
   "cell_type": "markdown",
   "id": "41dd6c48",
   "metadata": {},
   "source": [
    "- Form: [ausdruck for x in list]: Es wird der Reihe nach jedes Element der Liste in die Variable x eingesetzt und dann der Ausdruck ausgewertet. Die Ergebnisse ergeben eine neue Liste."
   ]
  },
  {
   "cell_type": "code",
   "execution_count": 12,
   "id": "a1358f4e",
   "metadata": {},
   "outputs": [
    {
     "data": {
      "text/plain": [
       "[1, 21, 41, 61, 81, 101, 121, 141, 161, 181, 201]"
      ]
     },
     "execution_count": 12,
     "metadata": {},
     "output_type": "execute_result"
    }
   ],
   "source": [
    "lst = list(range(0,101,10))\n",
    "[x*2+1 for x in lst]"
   ]
  },
  {
   "cell_type": "markdown",
   "id": "c804e74c",
   "metadata": {},
   "source": [
    "## Funktionen zur Verarbeitung von Listen"
   ]
  },
  {
   "cell_type": "markdown",
   "id": "c34b1be8",
   "metadata": {},
   "source": [
    "- del l[start:ende]: Entfernt die angegebenen Listenelemente\n",
    "- len(l): Anzahl der Elemente in l\n",
    "- l.append(x): x wird am Ende der Liste hinzugefügt\n",
    "- l.clear(): l wird gelöscht\n",
    "- l.count(x): Ermittelt, wie oft x in der Liste vorkommt\n",
    "- l1.extend(l2): Fügt die Liste l2 am Ende der Liste l1 an (also l1 += l2)\n",
    "- iterator = filter(f,l): Liefert die Elemente zurück, für die f(element) == True gilt\n",
    "- l.index(x): Ermittelt die erste Position von x in der Liste (Fehlermeldung, falls nicht in Liste)\n",
    "- l.insert(n,x): Fügt das Element x an der Position n in die Liste ein\n",
    "- iterator = map(f,l): Wendet die Funktion f auf alle Elemente an\n",
    "- min(l): Ermittelt das lexikographisch kleinste Element\n",
    "- max(l): Ermittelt das lexikographisch größte Element\n",
    "- x = l.pop(n): Liest das Element an der Position n und entfernt es (falls kein n angegeben wird: letztes Element)\n",
    "- l.remove(x): Entfernt das erste Element x aus der Liste\n",
    "- l.reverse(): Dreht die Liste um\n",
    "- l.sort(): Sortiert die Liste lexikographisch, **gibt aber nichts zurück**\n",
    "- sum(l): Berechnet die Summe der Listenelemente\n",
    "- iterator = zip(l1,l2): Verbindet die Listenelemente paarweise zu Tupeln"
   ]
  },
  {
   "cell_type": "code",
   "execution_count": 16,
   "id": "8e33fc52",
   "metadata": {},
   "outputs": [
    {
     "name": "stdout",
     "output_type": "stream",
     "text": [
      "[0, 1, 2, 3, 4, 5, 6, 7, 8, 9, 110, 120, 130, 130]\n",
      "[0, 1, 2, 3, 4, 100000, 5, 6, 7, 8, 9, 110, 120, 130, 130]\n",
      "100000\n",
      "4\n",
      "130\n",
      "3\n",
      "[0, 1, 2, 3, 4, 5, 6, 7, 8, 9, 110, 120, 130]\n",
      "130\n"
     ]
    }
   ],
   "source": [
    "lst = list(range(0,10))\n",
    "lst.extend([110,120,130, 130])\n",
    "print(lst)\n",
    "lst.insert(5, 100000)\n",
    "print(lst)\n",
    "print(lst.pop(5))\n",
    "print(lst.index(4))\n",
    "print(max(lst))\n",
    "print(lst.index(3))\n",
    "lst.remove(130)\n",
    "print(lst)\n",
    "print(lst.pop())"
   ]
  },
  {
   "cell_type": "code",
   "execution_count": 7,
   "id": "c87657b9",
   "metadata": {},
   "outputs": [
    {
     "name": "stdout",
     "output_type": "stream",
     "text": [
      "['Halloooo', '5', '1', 'Welt', 'Hallo']\n",
      "['1', '5', 'Hallo', 'Halloooo', 'Welt']\n",
      "(('1', 1), ('5', 2), ('Hallo', 3))\n",
      "Welt 1\n"
     ]
    }
   ],
   "source": [
    "lst = [\"Hallo\", \"Welt\", \"1\", \"5\", \"Halloooo\"]\n",
    "lst.reverse()\n",
    "print(lst)\n",
    "lst.sort()\n",
    "print(lst)\n",
    "print(tuple(zip(lst, [1,2,3])))\n",
    "print(max(lst), min(lst))"
   ]
  },
  {
   "cell_type": "markdown",
   "id": "d9e55fd7",
   "metadata": {},
   "source": [
    "### Map-Funktion"
   ]
  },
  {
   "cell_type": "markdown",
   "id": "9637bff4",
   "metadata": {},
   "source": [
    "- map, filter und reduce sind auf alle Objekte anwendbar, die **iterable** sind, d.h., alle Objekte, die mehrere Elemente enthalten, über die eine Schleife gebildet werden kann. Neben Listen trifft das auch auf Sets, Tupel und Dictionaries zu.\n",
    "- map wendet eine Funktion auf alle Elemente einer Liste an.\n",
    "- map liefert aus Effizienzgründen nicht unmittelbar eine Ergebnisliste, sondern einen **iterator**. Dieses Objekt kann z.B. in einer Schleife ausgewertet werden oder über list in eine Liste umgewandelt werden."
   ]
  },
  {
   "cell_type": "code",
   "execution_count": 42,
   "id": "ecf4dd30",
   "metadata": {},
   "outputs": [
    {
     "data": {
      "text/plain": [
       "[1, 4, 9, 16]"
      ]
     },
     "execution_count": 42,
     "metadata": {},
     "output_type": "execute_result"
    }
   ],
   "source": [
    "def quad(x):\n",
    "    return x*x\n",
    "\n",
    "lst = [1,2,3,4]\n",
    "iterator = map(quad, lst)\n",
    "list(iterator)"
   ]
  },
  {
   "cell_type": "markdown",
   "id": "20076383",
   "metadata": {},
   "source": [
    "- Es ist nicht nötig, die Funktion, die an map übergeben wird, zuerst mit def zu definieren. Man kann die Funktion auch sofort als **lambda** Funktion angeben."
   ]
  },
  {
   "cell_type": "code",
   "execution_count": 43,
   "id": "83f6a9bf",
   "metadata": {},
   "outputs": [
    {
     "data": {
      "text/plain": [
       "[1, 4, 9, 16]"
      ]
     },
     "execution_count": 43,
     "metadata": {},
     "output_type": "execute_result"
    }
   ],
   "source": [
    "list(map(lambda x: x*x, lst))"
   ]
  },
  {
   "cell_type": "markdown",
   "id": "f17ece96",
   "metadata": {},
   "source": [
    "- map kann auch mehrere Listen verarbeiten"
   ]
  },
  {
   "cell_type": "code",
   "execution_count": 45,
   "id": "48afe911",
   "metadata": {},
   "outputs": [
    {
     "data": {
      "text/plain": [
       "[11, 2]"
      ]
     },
     "execution_count": 45,
     "metadata": {},
     "output_type": "execute_result"
    }
   ],
   "source": [
    "def f(x,y):\n",
    "    return x + y\n",
    "\n",
    "lst1 = [7,1,4]\n",
    "lst2 = [4,1]\n",
    "\n",
    "list(map(f,lst1,lst2))"
   ]
  },
  {
   "cell_type": "markdown",
   "id": "ccc81205",
   "metadata": {},
   "source": [
    "- Wenn die Listen unterschiedlich lang sind, liefert map so viele Elemente wie die kürzeste Liste.\n",
    "- Die Funktion in map erwartet so viele Parameter, wie Listen an map übergeben werden (oben: 2)."
   ]
  },
  {
   "cell_type": "markdown",
   "id": "c212c2fa",
   "metadata": {},
   "source": [
    "### Reduce - Funktion"
   ]
  },
  {
   "cell_type": "markdown",
   "id": "7c3fbd43",
   "metadata": {},
   "source": [
    "- Bei reduce wird eine Funktion auf die Listenelemente angewendet. \n",
    "- Die Fuktion muss zwei Parameter verarbeiten. \n",
    "- Die Funktion wird von links nach rechts paarweise angewendet, zuerst auf die ersten beiden Listenelemente, dann auf das vorherige Ergebnis undas dritte Element, dann auf das vorige Ergebnis und das vierte Elemetn, etc.\n",
    "- Falls die Listenelemente x1, x2, x3 lauten, dann entspricht reduce(f,l) dem Ausdruck f(f(f(x1,x2),x3))\n",
    "- reduce reduziert die Liste auf einen einzelnen Wert.\n",
    "- reduce muss über functools importiert werden"
   ]
  },
  {
   "cell_type": "code",
   "execution_count": 46,
   "id": "dc123bdf",
   "metadata": {},
   "outputs": [
    {
     "data": {
      "text/plain": [
       "45"
      ]
     },
     "execution_count": 46,
     "metadata": {},
     "output_type": "execute_result"
    }
   ],
   "source": [
    "from functools import reduce\n",
    "lst = list(range(0,10))\n",
    "reduce(lambda x,y: x+y, lst)"
   ]
  },
  {
   "cell_type": "markdown",
   "id": "1ae4f4a2",
   "metadata": {},
   "source": [
    "### Filter - Funktion"
   ]
  },
  {
   "cell_type": "markdown",
   "id": "18fc070e",
   "metadata": {},
   "source": [
    "- Bei filter wird eine Funktion auf alle Listenelemente angewendet.\n",
    "- Ziel ist es, alle Listenelemente zurückzugeben, bie denen die Filterfunktion True liefert.\n",
    "- Es geht also darum, alle Elemente aus einer Liste herauszufiltern, die einer Bedingung genügen.\n",
    "- Das Ergebnis ist ein iterator, der über list in eine Liste umgewandelt werden kann."
   ]
  },
  {
   "cell_type": "code",
   "execution_count": 47,
   "id": "8bba7e68",
   "metadata": {},
   "outputs": [
    {
     "name": "stdout",
     "output_type": "stream",
     "text": [
      "[0, 2, 4, 6, 8]\n"
     ]
    }
   ],
   "source": [
    "lst = list(range(0,10))\n",
    "result = filter(lambda x: x%2==0, lst)\n",
    "print(list(result))"
   ]
  },
  {
   "cell_type": "markdown",
   "id": "d5c12d31",
   "metadata": {},
   "source": [
    "### Listen sortieren"
   ]
  },
  {
   "cell_type": "markdown",
   "id": "f3da8842",
   "metadata": {},
   "source": [
    "- sort sortiert Listen. \n",
    "- Voraussetzung: alle Listenelemente müssen denselben Datentyp aufweisen und vergleichbar sein\n",
    "- sort verändert die zugrundeliegende Liste. Wenn das nicht gewollt ist, kann **sorted** verwendet werden.\n",
    "- sorted kommt auch mit anderen Aufzählungstypen zurecht. Tupel und Sets liefert sorted in Form von sortierten Listen zurück."
   ]
  },
  {
   "cell_type": "code",
   "execution_count": 48,
   "id": "75e5f447",
   "metadata": {},
   "outputs": [
    {
     "name": "stdout",
     "output_type": "stream",
     "text": [
      "[' ', '!', 'H', 'W', 'd', 'e', 'l', 'l', 'l', 'o', 'o', 'r']\n"
     ]
    }
   ],
   "source": [
    "lst = list(\"Hello World!\")\n",
    "lst.sort()\n",
    "print(lst)"
   ]
  },
  {
   "cell_type": "code",
   "execution_count": 50,
   "id": "e91d60d3",
   "metadata": {},
   "outputs": [
    {
     "name": "stdout",
     "output_type": "stream",
     "text": [
      "[' ', '!', 'H', 'W', 'd', 'e', 'l', 'l', 'l', 'o', 'o', 'r']\n"
     ]
    }
   ],
   "source": [
    "lst = list(\"Hello World!\")\n",
    "sorted_lst = sorted(lst)\n",
    "print(sorted_lst)"
   ]
  },
  {
   "cell_type": "code",
   "execution_count": 51,
   "id": "36859984",
   "metadata": {},
   "outputs": [
    {
     "name": "stdout",
     "output_type": "stream",
     "text": [
      "[1, 2, 3, 5]\n"
     ]
    }
   ],
   "source": [
    "tupl = (3,5,1,2)\n",
    "sorted_tupl = sorted(tupl)\n",
    "print(sorted_tupl)"
   ]
  },
  {
   "cell_type": "markdown",
   "id": "0403d789",
   "metadata": {},
   "source": [
    "- Mit **reverse = True** wird abfallend statt aufsteigend sortiert.\n",
    "- Mit **key** kann eine Funktion übergeben werden, die auf die Elemente vor dem Sortieren angewendet wird. Das Resultat dieser Funktion gilt dann als Sortierkriterium."
   ]
  },
  {
   "cell_type": "code",
   "execution_count": 55,
   "id": "6bde50e5",
   "metadata": {},
   "outputs": [
    {
     "name": "stdout",
     "output_type": "stream",
     "text": [
      "['W', 'r', 'o', 'o', 'l', 'l', 'l', 'H', 'e', 'd', '!', ' ']\n",
      "['r', 'o', 'o', 'l', 'l', 'l', 'e', 'd', 'W', 'H', '!', ' ']\n"
     ]
    }
   ],
   "source": [
    "mysort1 = sorted(list(\"Hello World!\"), key=str.lower, reverse=True)\n",
    "mysort2 = sorted(list(\"Hello World!\"), reverse=True)\n",
    "print(mysort1)\n",
    "print(mysort2)"
   ]
  },
  {
   "cell_type": "markdown",
   "id": "25393c35",
   "metadata": {},
   "source": [
    "## Tupel"
   ]
  },
  {
   "cell_type": "markdown",
   "id": "06ec4637",
   "metadata": {},
   "source": [
    "- Wenn es zu keinem syntaktischen Mehrdeutigkeiten kommen kann, können die Klammern sogar weggelassen werden."
   ]
  },
  {
   "cell_type": "code",
   "execution_count": 56,
   "id": "e6238178",
   "metadata": {},
   "outputs": [
    {
     "name": "stdout",
     "output_type": "stream",
     "text": [
      "(1, 2, 3)\n"
     ]
    }
   ],
   "source": [
    "tupl = 1,2,3\n",
    "print(tupl)"
   ]
  },
  {
   "cell_type": "markdown",
   "id": "63ae8900",
   "metadata": {},
   "source": [
    "- Der Zugriff auf Tupel Elemente erfolgt wie bei Listen:"
   ]
  },
  {
   "cell_type": "code",
   "execution_count": 57,
   "id": "e2b6525b",
   "metadata": {},
   "outputs": [
    {
     "name": "stdout",
     "output_type": "stream",
     "text": [
      "(2, 3)\n"
     ]
    }
   ],
   "source": [
    "print(tupl[1:3])"
   ]
  },
  {
   "cell_type": "markdown",
   "id": "316b8fce",
   "metadata": {},
   "source": [
    "- Tupel könenn verwendet werden, um eine Zuweisung an mehrere Variablen auf einmal durchzuführen oder um mehrere Variablen auf einmal zu vergleichen."
   ]
  },
  {
   "cell_type": "code",
   "execution_count": 58,
   "id": "27f69c76",
   "metadata": {},
   "outputs": [
    {
     "name": "stdout",
     "output_type": "stream",
     "text": [
      "Success\n"
     ]
    }
   ],
   "source": [
    "(a,b,c) = (1,2,3)\n",
    "if (a,b,c)==(1,2,3):\n",
    "    print(\"Success\")"
   ]
  },
  {
   "cell_type": "markdown",
   "id": "5b3bdcf2",
   "metadata": {},
   "source": [
    "- Vergleich von Tupel mit **<,>,etc.** sind erlaubt. Dabei werden zuerst die beiden ersten Elemente der Tupel verglichen. Falls diese Elemente gleich sind, werden jeweils die zweiten Elemente vergleich usw."
   ]
  },
  {
   "cell_type": "code",
   "execution_count": 60,
   "id": "ecdb9740",
   "metadata": {},
   "outputs": [
    {
     "data": {
      "text/plain": [
       "True"
      ]
     },
     "execution_count": 60,
     "metadata": {},
     "output_type": "execute_result"
    }
   ],
   "source": [
    "(1,2,3) < (1,3,2)"
   ]
  },
  {
   "cell_type": "markdown",
   "id": "258fda40",
   "metadata": {},
   "source": [
    "- Tupel können verwendet werden, um zwei (oder mehr) Variablen miteinander zu vertauschen."
   ]
  },
  {
   "cell_type": "code",
   "execution_count": 62,
   "id": "52690dbe",
   "metadata": {},
   "outputs": [
    {
     "name": "stdout",
     "output_type": "stream",
     "text": [
      "23 17\n"
     ]
    }
   ],
   "source": [
    "a = 17; b = 23\n",
    "a,b = b,a\n",
    "print(a,b)"
   ]
  },
  {
   "cell_type": "markdown",
   "id": "d7de9fad",
   "metadata": {},
   "source": [
    "### Zip - Funktion"
   ]
  },
  {
   "cell_type": "markdown",
   "id": "1af8f646",
   "metadata": {},
   "source": [
    "- zip verbindet zusammengehörige Elemente mehrerer Listen zu Tupeln.\n",
    "- Wenn man an zip zwei Listen übergibt, besteht das Ergebnis aus Tupeln, die die jeweils ersten, zweiten, dritten Elemente der beiden Listen enthalten.\n",
    "- zip liefert einen iterator, der mit list zu einer Liste bzw. mit set zu einem Set umgewandelt werden kann.\n",
    "- zip kann auch mehr als zwei Listen verarbeiten.\n",
    "- Wenn die Listen unterschiedlich viele Elemente haben, hat das Ergebnis so viele Elemente wie die kleinste Liste."
   ]
  },
  {
   "cell_type": "code",
   "execution_count": 64,
   "id": "6f874ae8",
   "metadata": {},
   "outputs": [
    {
     "data": {
      "text/plain": [
       "[(1, 'a'), (2, 'b'), (3, 'c'), (4, 'd'), (5, 'e'), (6, 'f'), (7, 'g')]"
      ]
     },
     "execution_count": 64,
     "metadata": {},
     "output_type": "execute_result"
    }
   ],
   "source": [
    "list1 = list(range(1,11))\n",
    "list2 = list(\"abcdefg\")\n",
    "list(zip(list1, list2))"
   ]
  },
  {
   "cell_type": "markdown",
   "id": "2de74b85",
   "metadata": {},
   "source": [
    "## Sets"
   ]
  },
  {
   "cell_type": "markdown",
   "id": "67639a34",
   "metadata": {},
   "source": [
    "- Sets sind ungeordnete Mengen ohne Doppelgänger.\n",
    "- Zeichenketten können mit **set** in ein Zeichen-Set umgewandelt werden, wobei Doppelgänger automatische eliminiert werden."
   ]
  },
  {
   "cell_type": "code",
   "execution_count": 65,
   "id": "de8de37c",
   "metadata": {},
   "outputs": [
    {
     "name": "stdout",
     "output_type": "stream",
     "text": [
      "{' ', 'r', 'H', 'd', 'l', 'e', 'W', 'o'}\n"
     ]
    }
   ],
   "source": [
    "s = set(\"Hello World\")\n",
    "print(s)"
   ]
  },
  {
   "cell_type": "markdown",
   "id": "f5864480",
   "metadata": {},
   "source": [
    "### set - Methoden"
   ]
  },
  {
   "cell_type": "markdown",
   "id": "b85136b2",
   "metadata": {},
   "source": [
    "- add: Hinzufügen eines Elements an das set\n",
    "- in: Überprüfen, ob ein Element in einem set ist\n",
    "- remove: Entfernen eines Element aus dem set. Sollte das Element nicht existieren, gibt es eine Fehlermeldung.\n",
    "- discard: Entfernen eines Elements aus dem set. Sollte das Element nicht existieren, gibt es keine Fehlermeldung.\n",
    "- clear: Löschen aller Elemente\n",
    "- union: Zwei sets werden vereint"
   ]
  },
  {
   "cell_type": "code",
   "execution_count": 75,
   "id": "8ea01796",
   "metadata": {},
   "outputs": [
    {
     "name": "stdout",
     "output_type": "stream",
     "text": [
      "{1, 2, 3, 4}\n"
     ]
    }
   ],
   "source": [
    "s = {1,2,3}\n",
    "s.add(4)\n",
    "print(s)"
   ]
  },
  {
   "cell_type": "code",
   "execution_count": 68,
   "id": "4ba94076",
   "metadata": {},
   "outputs": [
    {
     "data": {
      "text/plain": [
       "True"
      ]
     },
     "execution_count": 68,
     "metadata": {},
     "output_type": "execute_result"
    }
   ],
   "source": [
    "3 in s"
   ]
  },
  {
   "cell_type": "code",
   "execution_count": 76,
   "id": "fd9a9a5c",
   "metadata": {},
   "outputs": [
    {
     "name": "stdout",
     "output_type": "stream",
     "text": [
      "{1, 3, 4}\n"
     ]
    }
   ],
   "source": [
    "s.remove(2)\n",
    "print(s)"
   ]
  },
  {
   "cell_type": "code",
   "execution_count": 78,
   "id": "ef3d5a07",
   "metadata": {},
   "outputs": [
    {
     "name": "stdout",
     "output_type": "stream",
     "text": [
      "{1, 3, 4}\n"
     ]
    }
   ],
   "source": [
    "s.discard(5)\n",
    "print(s)"
   ]
  },
  {
   "cell_type": "code",
   "execution_count": 79,
   "id": "b9412e97",
   "metadata": {},
   "outputs": [
    {
     "name": "stdout",
     "output_type": "stream",
     "text": [
      "set()\n"
     ]
    }
   ],
   "source": [
    "s.clear()\n",
    "print(s)"
   ]
  },
  {
   "cell_type": "code",
   "execution_count": 116,
   "id": "91005d56",
   "metadata": {},
   "outputs": [
    {
     "name": "stdout",
     "output_type": "stream",
     "text": [
      "{1, 2, 3}\n"
     ]
    }
   ],
   "source": [
    "s1 = {1,2}\n",
    "s2 = {2,3}\n",
    "print(s1.union(s2))"
   ]
  },
  {
   "cell_type": "markdown",
   "id": "b5eb411e",
   "metadata": {},
   "source": [
    "### Mengenlehre"
   ]
  },
  {
   "cell_type": "markdown",
   "id": "776aef30",
   "metadata": {},
   "source": [
    "- |: Vereinigung\n",
    "- -: Differenz\n",
    "- &: Schnittmenge\n",
    "- ^: XOR"
   ]
  },
  {
   "cell_type": "code",
   "execution_count": 83,
   "id": "8c3f83c2",
   "metadata": {},
   "outputs": [
    {
     "name": "stdout",
     "output_type": "stream",
     "text": [
      "{'h', 'f', 'd', 'c', 'a', 'g', 'e', 'b'}\n",
      "{'d', 'b', 'c', 'a'}\n",
      "{'e', 'f'}\n",
      "{'h', 'd', 'g', 'c', 'a', 'b'}\n"
     ]
    }
   ],
   "source": [
    "x = set(\"abcdef\")\n",
    "y = set(\"efgh\")\n",
    "\n",
    "print(x|y)\n",
    "print(x-y)\n",
    "print(x&y)\n",
    "print(x^y)"
   ]
  },
  {
   "cell_type": "markdown",
   "id": "1c4209c2",
   "metadata": {},
   "source": [
    "## Dictionaries"
   ]
  },
  {
   "cell_type": "markdown",
   "id": "01bb6b8b",
   "metadata": {},
   "source": [
    "- Reihenfolge der Elemente bleibt nicht erhalten."
   ]
  },
  {
   "cell_type": "code",
   "execution_count": 84,
   "id": "1aa1875e",
   "metadata": {},
   "outputs": [
    {
     "data": {
      "text/plain": [
       "True"
      ]
     },
     "execution_count": 84,
     "metadata": {},
     "output_type": "execute_result"
    }
   ],
   "source": [
    "dict = {\"a\": 1}\n",
    "\"a\" in dict"
   ]
  },
  {
   "cell_type": "markdown",
   "id": "f98fdc19",
   "metadata": {},
   "source": [
    "- Zum Auslesen von Elementen wird in der Regel die **get** Methode verwendet. Wenn der angegebne Schlüssel nicht existiert, lieft get den Wert none.\n",
    "- Man kann an get auch einen Default-Wert übergeben, der anstelle von None zum Einsatz kommt, wenn der Schlüssel nicht existiert."
   ]
  },
  {
   "cell_type": "code",
   "execution_count": 86,
   "id": "ee154cad",
   "metadata": {},
   "outputs": [
    {
     "name": "stdout",
     "output_type": "stream",
     "text": [
      "None 1 Thunfisch\n"
     ]
    }
   ],
   "source": [
    "print(dict.get(\"b\"), dict.get(\"a\"), dict.get(\"b\", \"Thunfisch\"))"
   ]
  },
  {
   "cell_type": "markdown",
   "id": "f1932e27",
   "metadata": {},
   "source": [
    "- **len** liefert die Anzahl der Elemente\n",
    "- Über d[neuerSchlüssel] = neuerWert kann das Dictionary erweitert werden"
   ]
  },
  {
   "cell_type": "code",
   "execution_count": 87,
   "id": "940230d4",
   "metadata": {},
   "outputs": [
    {
     "name": "stdout",
     "output_type": "stream",
     "text": [
      "1\n",
      "{'a': 1, 'b': 2}\n"
     ]
    }
   ],
   "source": [
    "print(len(dict))\n",
    "dict[\"b\"] = 2\n",
    "print(dict)"
   ]
  },
  {
   "cell_type": "markdown",
   "id": "f904ca86",
   "metadata": {},
   "source": [
    "- del d[Schlüssel] löscht ein Element"
   ]
  },
  {
   "cell_type": "code",
   "execution_count": 88,
   "id": "e1f159fb",
   "metadata": {},
   "outputs": [
    {
     "name": "stdout",
     "output_type": "stream",
     "text": [
      "{'a': 1}\n"
     ]
    }
   ],
   "source": [
    "del dict[\"b\"]\n",
    "print(dict)"
   ]
  },
  {
   "cell_type": "markdown",
   "id": "2ab3aedc",
   "metadata": {},
   "source": [
    "- Die Methoden **keys** und **values** liefern alle Schlüssel bzw. alle Werte des Dictionarys."
   ]
  },
  {
   "cell_type": "code",
   "execution_count": 19,
   "id": "d9b5a8e7",
   "metadata": {},
   "outputs": [
    {
     "name": "stdout",
     "output_type": "stream",
     "text": [
      "dict_keys(['a', 'b', 'c']) [1, 2, 3] [('a', 1), ('b', 2), ('c', 3)]\n"
     ]
    }
   ],
   "source": [
    "dict = {\"a\":1, \"b\": 2, \"c\":3}\n",
    "print(dict.keys(), list(dict.values()), list(dict.items()))"
   ]
  },
  {
   "cell_type": "markdown",
   "id": "d102bf0a",
   "metadata": {},
   "source": [
    "### Verarbeitung von Dictionary-Elementen"
   ]
  },
  {
   "cell_type": "markdown",
   "id": "44488861",
   "metadata": {},
   "source": [
    "- Wenn man eine for-Schleife über ein Dictionary bildet, set Python in die Schleifenvariable alle Schlüssel ein."
   ]
  },
  {
   "cell_type": "code",
   "execution_count": 100,
   "id": "2bb6902a",
   "metadata": {},
   "outputs": [
    {
     "name": "stdout",
     "output_type": "stream",
     "text": [
      "1\n",
      "2\n"
     ]
    }
   ],
   "source": [
    "dict = {\"a\": 1, \"b\": 2}\n",
    "\n",
    "for key in dict:\n",
    "    print(dict.get(key))\n",
    "    \n",
    "del dict"
   ]
  },
  {
   "cell_type": "markdown",
   "id": "d116d335",
   "metadata": {},
   "source": [
    "- Auch Dictionaries können durch Comprehension-Ausdrücke verarbeitet werden."
   ]
  },
  {
   "cell_type": "code",
   "execution_count": 97,
   "id": "9d352274",
   "metadata": {},
   "outputs": [
    {
     "data": {
      "text/plain": [
       "[1, 2]"
      ]
     },
     "execution_count": 97,
     "metadata": {},
     "output_type": "execute_result"
    }
   ],
   "source": [
    "[code for (color, code) in dict.items()]"
   ]
  },
  {
   "cell_type": "markdown",
   "id": "47f525b0",
   "metadata": {},
   "source": [
    "### Zip - Funktion"
   ]
  },
  {
   "cell_type": "markdown",
   "id": "602af13e",
   "metadata": {},
   "source": [
    "- Die zip-Funktion kann zur Bildung von Dictionaries verwendet werden. Dazu werden zwei Listen (Schlüssel, Werte) übergeben."
   ]
  },
  {
   "cell_type": "code",
   "execution_count": 101,
   "id": "67fa0302",
   "metadata": {},
   "outputs": [
    {
     "data": {
      "text/plain": [
       "{1: 'a',\n",
       " 2: 'b',\n",
       " 3: 'c',\n",
       " 4: 'd',\n",
       " 5: 'e',\n",
       " 6: 'f',\n",
       " 7: 'g',\n",
       " 8: 'h',\n",
       " 9: 'i',\n",
       " 10: 'j'}"
      ]
     },
     "execution_count": 101,
     "metadata": {},
     "output_type": "execute_result"
    }
   ],
   "source": [
    "lst1 = list(range(1,11))\n",
    "lst2 = list(\"abcdefghij\")\n",
    "dict(zip(lst1, lst2))"
   ]
  },
  {
   "cell_type": "code",
   "execution_count": 115,
   "id": "31b0228b",
   "metadata": {},
   "outputs": [
    {
     "name": "stdout",
     "output_type": "stream",
     "text": [
      "[1, 2, 3, 4, 5]\n"
     ]
    }
   ],
   "source": [
    "print(sorted(set([5,1,2,3,2,5,4,2,4,5,1])))"
   ]
  },
  {
   "cell_type": "code",
   "execution_count": 20,
   "id": "4ffb199a",
   "metadata": {},
   "outputs": [
    {
     "name": "stdout",
     "output_type": "stream",
     "text": [
      "True\n"
     ]
    }
   ],
   "source": [
    "print(1 in {1:\"a\", 2:\"b\"})"
   ]
  },
  {
   "cell_type": "code",
   "execution_count": null,
   "id": "92b64450",
   "metadata": {},
   "outputs": [],
   "source": []
  }
 ],
 "metadata": {
  "kernelspec": {
   "display_name": "Python 3 (ipykernel)",
   "language": "python",
   "name": "python3"
  },
  "language_info": {
   "codemirror_mode": {
    "name": "ipython",
    "version": 3
   },
   "file_extension": ".py",
   "mimetype": "text/x-python",
   "name": "python",
   "nbconvert_exporter": "python",
   "pygments_lexer": "ipython3",
   "version": "3.11.5"
  }
 },
 "nbformat": 4,
 "nbformat_minor": 5
}
