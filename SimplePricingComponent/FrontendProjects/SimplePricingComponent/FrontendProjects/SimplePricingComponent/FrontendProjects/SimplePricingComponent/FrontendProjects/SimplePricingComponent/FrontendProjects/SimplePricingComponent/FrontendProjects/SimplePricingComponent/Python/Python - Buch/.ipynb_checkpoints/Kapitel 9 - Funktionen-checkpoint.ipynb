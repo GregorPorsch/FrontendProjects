{
 "cells": [
  {
   "cell_type": "markdown",
   "id": "3d01502f",
   "metadata": {},
   "source": [
    "# Kapitel 9 - Funktionen"
   ]
  },
  {
   "cell_type": "markdown",
   "id": "81ceac81",
   "metadata": {},
   "source": [
    "- Funktionen müssen definiert werden, bevor sie verwendet werden. Daher werdne in der Regel zuerst alle Funktionen definiert und dann erst der restliche Code angegeben.\n",
    "- Zufällige Zeichenketten der Länge n erzeugen:"
   ]
  },
  {
   "cell_type": "code",
   "execution_count": 3,
   "id": "296ded91",
   "metadata": {},
   "outputs": [
    {
     "name": "stdout",
     "output_type": "stream",
     "text": [
      "gnixv\n"
     ]
    }
   ],
   "source": [
    "from string import ascii_lowercase\n",
    "from random import choices\n",
    "\n",
    "def random_string(n):\n",
    "    return \"\".join(choices(ascii_lowercase, k=n))\n",
    "\n",
    "print(random_string(5))"
   ]
  },
  {
   "cell_type": "markdown",
   "id": "0c2bfe57",
   "metadata": {},
   "source": [
    "## Mehrere Rückgabewerte"
   ]
  },
  {
   "cell_type": "code",
   "execution_count": 3,
   "id": "e87fe2b4",
   "metadata": {},
   "outputs": [
    {
     "name": "stdout",
     "output_type": "stream",
     "text": [
      "1 2 (1, 2)\n"
     ]
    }
   ],
   "source": [
    "def f(a,b):\n",
    "    return a, b\n",
    "\n",
    "c,d = f(1,2)\n",
    "print(c,d, f(1,2))"
   ]
  },
  {
   "cell_type": "markdown",
   "id": "b33ae988",
   "metadata": {},
   "source": [
    "## Lokale und globale Variablen"
   ]
  },
  {
   "cell_type": "markdown",
   "id": "6820ea30",
   "metadata": {},
   "source": [
    "### Variablenverwaltung"
   ]
  },
  {
   "cell_type": "markdown",
   "id": "90248ee9",
   "metadata": {},
   "source": [
    "- Funktionen können Variablen lesen, die außerhalb der Funktion definiert sind.\n",
    "- Variablen, die in einer Funktion initialisiert werden, gelten als lokal und können nur innerhalb der Funktion verwendet werden.\n",
    "- Das gilt auch, wenn eine Variable in einer Funktion denselben Namen hat wie eine Variable außerhalb der Funktion oder in einer anderen Funktion."
   ]
  },
  {
   "cell_type": "code",
   "execution_count": 4,
   "id": "2ddc5209",
   "metadata": {},
   "outputs": [
    {
     "name": "stdout",
     "output_type": "stream",
     "text": [
      "3\n",
      "5\n"
     ]
    }
   ],
   "source": [
    "def f():\n",
    "    z = 3\n",
    "    print(z)\n",
    "    \n",
    "z = 5\n",
    "f()\n",
    "print(z)"
   ]
  },
  {
   "cell_type": "markdown",
   "id": "1becfe24",
   "metadata": {},
   "source": [
    "- Wenn eine Variable oberhalb der Funktionsdefinition initialisiert und verwendet wird, bevor sie innerhalb der Funktion definiert wurde, gibt es einen Fehler. Entscheidend ist hier nur, dass es eine lokale Variable innerhalb der Funktion ist."
   ]
  },
  {
   "cell_type": "code",
   "execution_count": 8,
   "id": "9be4cc83",
   "metadata": {},
   "outputs": [
    {
     "ename": "UnboundLocalError",
     "evalue": "cannot access local variable 'z' where it is not associated with a value",
     "output_type": "error",
     "traceback": [
      "\u001b[0;31m---------------------------------------------------------------------------\u001b[0m",
      "\u001b[0;31mUnboundLocalError\u001b[0m                         Traceback (most recent call last)",
      "Cell \u001b[0;32mIn[8], line 7\u001b[0m\n\u001b[1;32m      4\u001b[0m     z \u001b[38;5;241m=\u001b[39m z \u001b[38;5;241m+\u001b[39m \u001b[38;5;241m3\u001b[39m\n\u001b[1;32m      5\u001b[0m     \u001b[38;5;28mprint\u001b[39m(z)\n\u001b[0;32m----> 7\u001b[0m f()\n",
      "Cell \u001b[0;32mIn[8], line 4\u001b[0m, in \u001b[0;36mf\u001b[0;34m()\u001b[0m\n\u001b[1;32m      3\u001b[0m \u001b[38;5;28;01mdef\u001b[39;00m \u001b[38;5;21mf\u001b[39m():\n\u001b[0;32m----> 4\u001b[0m     z \u001b[38;5;241m=\u001b[39m z \u001b[38;5;241m+\u001b[39m \u001b[38;5;241m3\u001b[39m\n\u001b[1;32m      5\u001b[0m     \u001b[38;5;28mprint\u001b[39m(z)\n",
      "\u001b[0;31mUnboundLocalError\u001b[0m: cannot access local variable 'z' where it is not associated with a value"
     ]
    }
   ],
   "source": [
    "z = 3\n",
    "\n",
    "def f():\n",
    "    z = z + 3\n",
    "    print(z)\n",
    "    \n",
    "f()"
   ]
  },
  {
   "cell_type": "markdown",
   "id": "8a020979",
   "metadata": {},
   "source": [
    "### Globale Variablen"
   ]
  },
  {
   "cell_type": "markdown",
   "id": "fec21e7b",
   "metadata": {},
   "source": [
    "- Wenn man in einer Funktion eine Variable verändern möchte, die außerhalb der Funktion definiert wurde, dann man diese Variable in der Funktion als **global** kennzeichnen.\n",
    "- Dadurch wird die Variable nicht als lokale Variable betrachtet, sondern als eine Variable aus dem globalen Gültigkeitsbereich."
   ]
  },
  {
   "cell_type": "code",
   "execution_count": 10,
   "id": "163e25a9",
   "metadata": {},
   "outputs": [
    {
     "name": "stdout",
     "output_type": "stream",
     "text": [
      "6\n",
      "6\n"
     ]
    }
   ],
   "source": [
    "z = 3\n",
    "\n",
    "def f():\n",
    "    global z\n",
    "    z = z + 3\n",
    "    print(z)\n",
    "    \n",
    "f()\n",
    "print(z)"
   ]
  },
  {
   "cell_type": "markdown",
   "id": "ae2d9d27",
   "metadata": {},
   "source": [
    "- Global sollte vermieden werden. Stattdessen wird in der Regel das Funktionsergebnis mit return zurückgegeben und dann gespeichert."
   ]
  },
  {
   "cell_type": "code",
   "execution_count": 12,
   "id": "13ed59c4",
   "metadata": {},
   "outputs": [
    {
     "name": "stdout",
     "output_type": "stream",
     "text": [
      "6\n"
     ]
    }
   ],
   "source": [
    "x = 3\n",
    "\n",
    "def f():\n",
    "    return x + 3\n",
    "\n",
    "x = f()\n",
    "print(x)"
   ]
  },
  {
   "cell_type": "markdown",
   "id": "fd69c087",
   "metadata": {},
   "source": [
    "## Parameter"
   ]
  },
  {
   "cell_type": "markdown",
   "id": "0200363f",
   "metadata": {},
   "source": [
    "- Intern verhalten sich Parameter wie lokale Variablen. Sie sind daher unabhängig von gleichnamigen Variablen, die außerhalb der Funktion definiert sind.\n",
    "- Vorsicht bei mutable: Wird ein mutable Parameter in der Funktion verändert, so wird er auch außerhalb der Funktion verändert."
   ]
  },
  {
   "cell_type": "code",
   "execution_count": 13,
   "id": "613fdcc3",
   "metadata": {},
   "outputs": [
    {
     "name": "stdout",
     "output_type": "stream",
     "text": [
      "[1, 2, 3]\n",
      "[1, 2, 3]\n"
     ]
    }
   ],
   "source": [
    "def f(x):\n",
    "    x.append(3)\n",
    "    print(x)\n",
    "    \n",
    "x = [1,2]\n",
    "f(x)\n",
    "print(x)"
   ]
  },
  {
   "cell_type": "markdown",
   "id": "1ea9738a",
   "metadata": {},
   "source": [
    "- Mit **para=default** definiert man für einen Parameter einen Defaultwert. Dadurch wird der Parameter gleichzeitig optional. Alle optionalen Parameter müssen am Ende der Parameterliste angegeben werden.\n",
    "- Funktionsparameter können auch in der Schreibweise **name=wert** übergeben werden. Dadruch ist man nicht gezwungen, sich an die Reihenfolge der Parameter zu halten."
   ]
  },
  {
   "cell_type": "code",
   "execution_count": 16,
   "id": "ba5ceaf1",
   "metadata": {},
   "outputs": [
    {
     "name": "stdout",
     "output_type": "stream",
     "text": [
      "7 3 -1 0\n"
     ]
    }
   ],
   "source": [
    "def f(a,b,c=-1,d=0):\n",
    "    print(a,b,c,d)\n",
    "    \n",
    "f(b=3,a=7)"
   ]
  },
  {
   "cell_type": "markdown",
   "id": "5e924ca1",
   "metadata": {},
   "source": [
    "### Variable Parameteranzahl"
   ]
  },
  {
   "cell_type": "markdown",
   "id": "c9c11885",
   "metadata": {},
   "source": [
    "- Wenn man Parameter in der Form **\\*para** oder **\\*\\*para** definiert, können diese Parameter beliebig viele Werte entgegen nehmen.\n",
    "- Bei \\*para stehen die Parameter anschließend als **Tupel** zur Verfügung.\n",
    "- Bei \\*\\*para stehen deie Parameter anschließend als **Dictionary** zur Verfügung. \\*\\*para Argumente müssen als benannte Parameter übergeben werden."
   ]
  },
  {
   "cell_type": "code",
   "execution_count": 17,
   "id": "1b11c46a",
   "metadata": {},
   "outputs": [
    {
     "name": "stdout",
     "output_type": "stream",
     "text": [
      "1 2 (3, 4)\n"
     ]
    }
   ],
   "source": [
    "def f(a,b,*c):\n",
    "    print(a,b,c)\n",
    "    \n",
    "f(1,2,3,4)"
   ]
  },
  {
   "cell_type": "markdown",
   "id": "bea81810",
   "metadata": {},
   "source": [
    "- Wenn die Daten, die an eine Funktion übergeben werden sollen, in einer Liste oder eine Tuple oder einer anderen aufzählbaren Datenstruktur vorliegen, ist beim Funktionsaufruf auch die Schreibweise **function(\\*list)** erlaubt. Damit werden die Elemente der Liste automatisch auf die Parameter verteilt."
   ]
  },
  {
   "cell_type": "code",
   "execution_count": 18,
   "id": "bfdaed5b",
   "metadata": {},
   "outputs": [
    {
     "name": "stdout",
     "output_type": "stream",
     "text": [
      "1 2 (3, 4)\n"
     ]
    }
   ],
   "source": [
    "l = [1,2,3,4]\n",
    "f(*l)"
   ]
  },
  {
   "cell_type": "markdown",
   "id": "56861c91",
   "metadata": {},
   "source": [
    "- Die Schreibweise \\*liste kann in jeder Funktion verwendet werden, auch in Kombination mit List Comprehension."
   ]
  },
  {
   "cell_type": "code",
   "execution_count": 20,
   "id": "466776b4",
   "metadata": {},
   "outputs": [
    {
     "name": "stdout",
     "output_type": "stream",
     "text": [
      "1 2 3 4\n",
      "1 4 9 16 25 36 49 64 81 100\n"
     ]
    }
   ],
   "source": [
    "print(*l)\n",
    "print(*[x*x for x in range(1,11)])"
   ]
  },
  {
   "cell_type": "markdown",
   "id": "3878b1f5",
   "metadata": {},
   "source": [
    "- Umgang mit einem \\*\\*para Parameter:"
   ]
  },
  {
   "cell_type": "code",
   "execution_count": 22,
   "id": "33922858",
   "metadata": {},
   "outputs": [
    {
     "name": "stdout",
     "output_type": "stream",
     "text": [
      "1 2 {}\n",
      "1 2 {'x': 4, 'y': 5, 'z': 6}\n"
     ]
    }
   ],
   "source": [
    "def f(a,b,**c):\n",
    "    print(a,b,c)\n",
    "    \n",
    "f(1,2)\n",
    "f(1,2,x=4,y=5,z=6)"
   ]
  },
  {
   "cell_type": "markdown",
   "id": "3b2d9cfa",
   "metadata": {},
   "source": [
    "- Benannte Parameter können auch mit der Schreibweise **\\*\\*dict** aus einem Dictionary in die Parameterliste übertragen werden:"
   ]
  },
  {
   "cell_type": "code",
   "execution_count": 25,
   "id": "cdd3c3a3",
   "metadata": {},
   "outputs": [
    {
     "name": "stdout",
     "output_type": "stream",
     "text": [
      "1 2 {'c': 3, 'd': 4, 'e': 5}\n"
     ]
    }
   ],
   "source": [
    "def f(a,b,**c):\n",
    "    print(a,b,c)\n",
    "    \n",
    "dict = {\"a\":1, \"b\":2, \"c\": 3, \"d\":4, \"e\": 5}\n",
    "f(**dict)"
   ]
  },
  {
   "cell_type": "markdown",
   "id": "4126e6a8",
   "metadata": {},
   "source": [
    "- In der Parameterliste darf es maximal einen \\*- oder \\*\\*-Parameter geben. Einem \\*\\*-Parameter dürfen keine weiteren Parameter mehr folgen. Bei \\*-Parameter sind weitere einfache Parameter erlaubt. Diese müssen aber immer benannt werden. "
   ]
  },
  {
   "cell_type": "code",
   "execution_count": 28,
   "id": "aaa5c3b1",
   "metadata": {},
   "outputs": [
    {
     "name": "stdout",
     "output_type": "stream",
     "text": [
      "1 2 (3, 4, 5) 6\n"
     ]
    }
   ],
   "source": [
    "def f(a,b,*c,d):\n",
    "    print(a,b,c,d)\n",
    "    \n",
    "f(1,2,3,4,5,d=6)"
   ]
  },
  {
   "cell_type": "markdown",
   "id": "1d99f6be",
   "metadata": {},
   "source": [
    "- In Python ist es nicht möglich, den Typ eines Parameters zu limitieren. In solchen Fällen kann man über **isinstanc** überprüfen, ob der Typ korrekt ist:"
   ]
  },
  {
   "cell_type": "code",
   "execution_count": 29,
   "id": "d1dcfbdb",
   "metadata": {},
   "outputs": [
    {
     "name": "stdout",
     "output_type": "stream",
     "text": [
      "6\n",
      "Ungültiger Parameter\n",
      "-1\n"
     ]
    }
   ],
   "source": [
    "def f(n):\n",
    "    if isinstance(n,int):\n",
    "        return 2*n\n",
    "    else:\n",
    "        print(\"Ungültiger Parameter\")\n",
    "        return -1\n",
    "    \n",
    "print(f(3))\n",
    "print(f(\"cat\"))"
   ]
  },
  {
   "cell_type": "markdown",
   "id": "66c41d06",
   "metadata": {},
   "source": [
    "### Type Annotations"
   ]
  },
  {
   "cell_type": "markdown",
   "id": "88f69578",
   "metadata": {},
   "source": [
    "- Optionale Angabe des vorgesehenen Datentyps für Parameter. \n",
    "- Type-Annotations haben nur Dokumentations-Charakter. Der Python-Interpreter kümmert sich in keiner Weise um die Einhaltung der Typen."
   ]
  },
  {
   "cell_type": "code",
   "execution_count": 30,
   "id": "b71d8a32",
   "metadata": {},
   "outputs": [
    {
     "data": {
      "text/plain": [
       "'catcat'"
      ]
     },
     "execution_count": 30,
     "metadata": {},
     "output_type": "execute_result"
    }
   ],
   "source": [
    "def f(n:int) -> int:\n",
    "    return 2*n\n",
    "\n",
    "f(\"cat\")"
   ]
  },
  {
   "cell_type": "code",
   "execution_count": 37,
   "id": "4ec51961",
   "metadata": {},
   "outputs": [
    {
     "name": "stdout",
     "output_type": "stream",
     "text": [
      "[3, 9, 345, 36, 33] [1, 3, 115, 12, 11]\n"
     ]
    }
   ],
   "source": [
    "lst = [1,2,3,9,345,36,33]\n",
    "lst2 = list(filter(lambda x: x%3==0,lst))\n",
    "lst3 = list(map(lambda x: x//3,lst2))\n",
    "print(lst2, lst3)"
   ]
  },
  {
   "cell_type": "markdown",
   "id": "170330e9",
   "metadata": {},
   "source": [
    "## Lambda - Funktionen"
   ]
  },
  {
   "cell_type": "markdown",
   "id": "47270a2a",
   "metadata": {},
   "source": [
    "- Lambda Funktionen können Variablen zugewiesen werden (jedoch unüblich)."
   ]
  },
  {
   "cell_type": "code",
   "execution_count": 38,
   "id": "4b699814",
   "metadata": {},
   "outputs": [
    {
     "name": "stdout",
     "output_type": "stream",
     "text": [
      "12\n"
     ]
    }
   ],
   "source": [
    "f = lambda x,y: (x+1)*(y+1)\n",
    "print(f(2,3))"
   ]
  },
  {
   "cell_type": "markdown",
   "id": "e5ba0442",
   "metadata": {},
   "source": [
    "## Funktionale Programmierung"
   ]
  },
  {
   "cell_type": "markdown",
   "id": "b17e52af",
   "metadata": {},
   "source": [
    "- Funktionen können wie Zahlen, etc. ohne Weiteres in einer Variablen gespeichert werden - um diese Variable dann wie eine Funktion einzusetzen.\n",
    "- Funktionen können selbst an die Prameter einer anderen Funktion übergeben werden.\n",
    "- Funktionen können mit return eine Funktion als Ergebnis zurückgeben."
   ]
  },
  {
   "cell_type": "code",
   "execution_count": 39,
   "id": "0433fe05",
   "metadata": {},
   "outputs": [
    {
     "name": "stdout",
     "output_type": "stream",
     "text": [
      "0.7173560908995228 0.7173560908995228\n",
      "0.9610554383107709 0.9610554383107709\n"
     ]
    }
   ],
   "source": [
    "import math\n",
    "\n",
    "def funcbuilder(f,n):\n",
    "    def newfunc(x):\n",
    "        return f(n*x)\n",
    "    return newfunc\n",
    "\n",
    "\"\"\"\n",
    "def funcbuilder(f,n):\n",
    "    return lambda x: f(n*x)\n",
    "\"\"\"\n",
    "\n",
    "# Bildet die Funktion sin(2*x)\n",
    "f1 = funcbuilder(math.sin, 2)\n",
    "print(f1(0.4), math.sin(0.4*2))\n",
    "\n",
    "# Bildet die Funktion cos(4*x)\n",
    "f2 = funcbuilder(math.cos, 4)\n",
    "print(f2(0.07), math.cos(0.07*4))"
   ]
  },
  {
   "cell_type": "code",
   "execution_count": 41,
   "id": "7e67f2d6",
   "metadata": {},
   "outputs": [
    {
     "name": "stdout",
     "output_type": "stream",
     "text": [
      "0.19866933079506122\n",
      "0.19866933079506122\n",
      "True\n"
     ]
    }
   ],
   "source": [
    "import math\n",
    "\n",
    "def verschachteln(f,g,x):\n",
    "    return f(g(x))\n",
    "\n",
    "verschachteln(print, math.sin, 0.2)\n",
    "print(math.sin(0.2))\n",
    "\n",
    "ergebnis = verschachteln(math.sin, math.sqrt, 0.5)\n",
    "print(ergebnis == math.sin(math.sqrt(0.5)))"
   ]
  },
  {
   "cell_type": "code",
   "execution_count": 44,
   "id": "44ffe3a0",
   "metadata": {},
   "outputs": [
    {
     "name": "stdout",
     "output_type": "stream",
     "text": [
      "[0.0, 1.0, 1.4142135623730951, 1.7320508075688772, 2.0]\n"
     ]
    }
   ],
   "source": [
    "import math\n",
    "\n",
    "def buildlist(n,start,end,fn):\n",
    "    if n<=1:\n",
    "        return []\n",
    "    delta = (end-start)/(n-1)\n",
    "    return [fn(start+i*delta) for i in range(n)]\n",
    "\n",
    "lst = buildlist(5, 0.0, 4.0, math.sqrt)\n",
    "print(lst)"
   ]
  },
  {
   "cell_type": "markdown",
   "id": "304c8ca1",
   "metadata": {},
   "source": [
    "## Generatoren"
   ]
  },
  {
   "cell_type": "markdown",
   "id": "8783afa9",
   "metadata": {},
   "source": [
    "- Funktionen, die mehrteilige Ergebnisse erst bei Bedarf liefern (auch als lazy bezeichnet, da sie nicht vorausschauend immer möglichst viel Arbeit vorweg erledigen, sondern immer abwarten, bis die Daten tatsächlich benötigt werden)\n",
    "- Vorteile: Einsparung von Speicherplatz, da eine (vielleicht riesige) Liste nicht vollständig im Speicher gehalten werden muss, sondern Element für Element verarbeitet werden kann; Einsparung von Zeit, wenn nach der Verarbeitung einr bestimmen Anzahl an Ergebnissen bereits klar wird, dass die weiteren Ergebnisse ohnehin nicht mehr benötigt werden\n",
    "- Anstatt das gesamte Ergebnis mit return zurückzugeben, werden Teilergebnisse mit **yield** zurückgegeben. yield beendet die Ausführung des Funktionscodes nur vorrübergehend. Beim Abruf eines weiteren Element wird der Code fortgesetzt. Wenn die Ausführung eines Generators endgültig beendet werden soll, muss return verwendet werden."
   ]
  },
  {
   "cell_type": "code",
   "execution_count": 56,
   "id": "0a5b7a69",
   "metadata": {},
   "outputs": [
    {
     "name": "stdout",
     "output_type": "stream",
     "text": [
      "[0, 1, 1, 2, 3, 5, 8, 13, 21, 34]\n",
      "[0, 1, 1, 2, 3, 5, 8, 13, 21, 34]\n",
      "21\n"
     ]
    }
   ],
   "source": [
    "def fiblst(n):\n",
    "    a,b = 0,1\n",
    "    result = []\n",
    "    for _ in range(n):\n",
    "        result += [a]\n",
    "        a,b = b,a+b\n",
    "    return result\n",
    "\n",
    "def fiblst2(n):\n",
    "    cnt = 0\n",
    "    a,b = 0,1\n",
    "    for _ in range(n):\n",
    "        yield a\n",
    "        a,b = b,a+b\n",
    "        cnt += 1\n",
    "        if cnt > n:\n",
    "            return\n",
    "\n",
    "print(fiblst(10))\n",
    "print(list(fiblst2(10)))\n",
    "\n",
    "gen = fiblst2(10)\n",
    "fib = next(gen)\n",
    "while fib < 20:\n",
    "    fib = next(gen, None)            # None = Defaultwert, wenn mehr Daten abgerufen werden, als Generator hat\n",
    "print(fib)"
   ]
  },
  {
   "cell_type": "code",
   "execution_count": 64,
   "id": "6b451b95",
   "metadata": {},
   "outputs": [
    {
     "name": "stdout",
     "output_type": "stream",
     "text": [
      "5\n"
     ]
    }
   ],
   "source": [
    "def ggt(x,y):\n",
    "    a,b = max(x,y),min(x,y)\n",
    "    rest = a % b\n",
    "    return b if not rest else ggt(b,rest)\n",
    "        \n",
    "print(ggt(80, 65))"
   ]
  },
  {
   "cell_type": "code",
   "execution_count": null,
   "id": "2616f323",
   "metadata": {},
   "outputs": [],
   "source": []
  }
 ],
 "metadata": {
  "kernelspec": {
   "display_name": "Python 3 (ipykernel)",
   "language": "python",
   "name": "python3"
  },
  "language_info": {
   "codemirror_mode": {
    "name": "ipython",
    "version": 3
   },
   "file_extension": ".py",
   "mimetype": "text/x-python",
   "name": "python",
   "nbconvert_exporter": "python",
   "pygments_lexer": "ipython3",
   "version": "3.11.5"
  }
 },
 "nbformat": 4,
 "nbformat_minor": 5
}
