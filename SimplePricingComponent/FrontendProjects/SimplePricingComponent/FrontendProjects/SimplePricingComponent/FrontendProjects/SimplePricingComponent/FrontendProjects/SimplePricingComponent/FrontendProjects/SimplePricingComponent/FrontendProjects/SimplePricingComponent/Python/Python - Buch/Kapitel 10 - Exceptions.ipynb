{
 "cells": [
  {
   "cell_type": "markdown",
   "id": "7b643a9b",
   "metadata": {},
   "source": [
    "# Kapitel 10 - Exceptions"
   ]
  },
  {
   "cell_type": "code",
   "execution_count": null,
   "id": "fb42edc5",
   "metadata": {},
   "outputs": [],
   "source": [
    "try:\n",
    "    # fehleranfälliger Code\n",
    "except aaaError:\n",
    "    # Reaktion auf einen bestimmten Fehler\n",
    "except bbbError as err:\n",
    "    # Reaktion auf einen Fehler\n",
    "    # erro enthält Informationen zum Fehler\n",
    "except (cccError, dddError):\n",
    "    # Rekation auf die aufgezählten Fehler\n",
    "except (eeeError, fffError) as err:\n",
    "    # Reaktion auf die aufgezählten Fehler\n",
    "    # err enthält Informationen zum Fehler\n",
    "except:\n",
    "    # Reaktion auf alle anderen Fehler\n",
    "else:\n",
    "    # Wird ausgeführt, wenn kein Fehler aufgetreten ist\n",
    "finally:\n",
    "    # wird immer ausgeführt, egal, ob ein Fehler aufgetreten ist oder nicht"
   ]
  },
  {
   "cell_type": "markdown",
   "id": "beff1d46",
   "metadata": {},
   "source": [
    "- Im Anschluss an try ist except oder finally zwingend notwendig."
   ]
  },
  {
   "cell_type": "markdown",
   "id": "52244ea5",
   "metadata": {},
   "source": [
    "### Fehlertypen"
   ]
  },
  {
   "cell_type": "markdown",
   "id": "b0f7f5c0",
   "metadata": {},
   "source": [
    "- EOFError: Dateiende erreicht (end of file)\n",
    "- FileNotFoundError: Datei existiert nicht\n",
    "- IndexError: Zugriff auf nicht vorhandene Elemente (Liste, String)\n",
    "- KeyboardInterrupt: Benutzer hat Strg + C gedrückt\n",
    "- KeyError: Zugriff auf nicht vorhandenes Element (Dictionary)\n",
    "- NameError: Zugriff auf nihct vorhandene Variable oder Methode\n",
    "- PermissionError: unzureichende Rechte für Dateizugriff\n",
    "- RecursionError: Überschreitung der maximalen Rekursionstiefe\n",
    "- TypeError: falscher Datentyp (z.B. Zeichenkette statt Zahl)\n",
    "- UnicodeError: fehlerhafte Codierung einer Zeichenkette\n",
    "- ValueError: Parameter außerhalb des zulässigen Datenbereichs\n",
    "- ZeroDivisionError: Division durch null"
   ]
  },
  {
   "cell_type": "markdown",
   "id": "5c47f04b",
   "metadata": {},
   "source": [
    "### Catch-all-Absicherung"
   ]
  },
  {
   "cell_type": "markdown",
   "id": "40de7253",
   "metadata": {},
   "source": [
    "- Normalerweise sollte man für jede Fehlerabsicherung konkret den zu erwartenden Fehler bestimmen.\n",
    "- Möchte man jedoch jeden Fehler abfangen, gleichzeitig aber Informationen über den Fehler erhalten, verwendet man eine **BaseException**\n",
    "- Da sämtliche Fehlerzustände von der BaseException abgeleitet sind, tritt die BaseException auf jeden Fehler zu."
   ]
  },
  {
   "cell_type": "code",
   "execution_count": 4,
   "id": "5689412e",
   "metadata": {},
   "outputs": [],
   "source": [
    "try:\n",
    "    ...\n",
    "except BaseException as err:\n",
    "    print(\"Fehler\")"
   ]
  },
  {
   "cell_type": "markdown",
   "id": "7affb661",
   "metadata": {},
   "source": [
    "### Auswertung von Exception-Objekten"
   ]
  },
  {
   "cell_type": "code",
   "execution_count": 5,
   "id": "7de22564",
   "metadata": {},
   "outputs": [
    {
     "name": "stdout",
     "output_type": "stream",
     "text": [
      "division by zero\n"
     ]
    }
   ],
   "source": [
    "try:\n",
    "    n = 1/0\n",
    "except ZeroDivisionError as e:\n",
    "    print(e)"
   ]
  },
  {
   "cell_type": "markdown",
   "id": "1597190a",
   "metadata": {},
   "source": [
    "- Bei der Auswertung von Exception-Objekten ist in der Regel nur die Variable **args** von Interesse.\n",
    "- Sie liefert ein Tupel mit allen Parametern, die beim Auslösen des Fehler übergeben wurden. \n",
    "- Wird ein Exception-Objekt in eine Zeichenkette umgewandelt, wird der Inhalt von args automatisch in eine Zeichenkette umgewandelt."
   ]
  },
  {
   "cell_type": "markdown",
   "id": "c48e72f4",
   "metadata": {},
   "source": [
    "### Nichts tun mit pass"
   ]
  },
  {
   "cell_type": "markdown",
   "id": "ad51bacb",
   "metadata": {},
   "source": [
    "- Mit **pass** kann man dafür sorgen, dass das Programm nichts tut, auch wenn es zu einem Fehler kommt. \n",
    "- Z.B. eine Anwendung, die durch Strg. + C unterbrochen wird (KeyBoardInterrupt), man das Programm jedoch ordentlich beenden will."
   ]
  },
  {
   "cell_type": "code",
   "execution_count": null,
   "id": "48daabd1",
   "metadata": {},
   "outputs": [],
   "source": [
    "import sys\n",
    "\n",
    "try: \n",
    "    while True:\n",
    "        input(\"Hallo: \")\n",
    "except KeyboardInterrupt:\n",
    "    pass\n",
    "finally:\n",
    "    sys.close()"
   ]
  },
  {
   "cell_type": "markdown",
   "id": "8341076f",
   "metadata": {},
   "source": [
    "## Selbst Exceptions auslösen "
   ]
  },
  {
   "cell_type": "code",
   "execution_count": 1,
   "id": "55860234",
   "metadata": {},
   "outputs": [
    {
     "ename": "ValueError",
     "evalue": "Verwenden Sie positive Parameter!",
     "output_type": "error",
     "traceback": [
      "\u001b[0;31m---------------------------------------------------------------------------\u001b[0m",
      "\u001b[0;31mValueError\u001b[0m                                Traceback (most recent call last)",
      "Cell \u001b[0;32mIn[1], line 5\u001b[0m\n\u001b[1;32m      2\u001b[0m     \u001b[38;5;28;01mif\u001b[39;00m x \u001b[38;5;241m<\u001b[39m \u001b[38;5;241m0\u001b[39m \u001b[38;5;129;01mor\u001b[39;00m y \u001b[38;5;241m<\u001b[39m \u001b[38;5;241m0\u001b[39m:\n\u001b[1;32m      3\u001b[0m         \u001b[38;5;28;01mraise\u001b[39;00m \u001b[38;5;167;01mValueError\u001b[39;00m(\u001b[38;5;124m\"\u001b[39m\u001b[38;5;124mVerwenden Sie positive Parameter!\u001b[39m\u001b[38;5;124m\"\u001b[39m)\n\u001b[0;32m----> 5\u001b[0m \u001b[38;5;28mprint\u001b[39m(f(\u001b[38;5;241m-\u001b[39m\u001b[38;5;241m1\u001b[39m,\u001b[38;5;241m2\u001b[39m))\n",
      "Cell \u001b[0;32mIn[1], line 3\u001b[0m, in \u001b[0;36mf\u001b[0;34m(x, y)\u001b[0m\n\u001b[1;32m      1\u001b[0m \u001b[38;5;28;01mdef\u001b[39;00m \u001b[38;5;21mf\u001b[39m(x,y):\n\u001b[1;32m      2\u001b[0m     \u001b[38;5;28;01mif\u001b[39;00m x \u001b[38;5;241m<\u001b[39m \u001b[38;5;241m0\u001b[39m \u001b[38;5;129;01mor\u001b[39;00m y \u001b[38;5;241m<\u001b[39m \u001b[38;5;241m0\u001b[39m:\n\u001b[0;32m----> 3\u001b[0m         \u001b[38;5;28;01mraise\u001b[39;00m \u001b[38;5;167;01mValueError\u001b[39;00m(\u001b[38;5;124m\"\u001b[39m\u001b[38;5;124mVerwenden Sie positive Parameter!\u001b[39m\u001b[38;5;124m\"\u001b[39m)\n",
      "\u001b[0;31mValueError\u001b[0m: Verwenden Sie positive Parameter!"
     ]
    }
   ],
   "source": [
    "def f(x,y):\n",
    "    if x < 0 or y < 0:\n",
    "        raise ValueError(\"Verwenden Sie positive Parameter!\")\n",
    "        \n",
    "print(f(-1,2))"
   ]
  },
  {
   "cell_type": "code",
   "execution_count": 6,
   "id": "eef63473",
   "metadata": {},
   "outputs": [
    {
     "name": "stdout",
     "output_type": "stream",
     "text": [
      "145.500000\n"
     ]
    }
   ],
   "source": [
    "print(f\"{145.5:<7f}\")"
   ]
  },
  {
   "cell_type": "code",
   "execution_count": null,
   "id": "5a829b61",
   "metadata": {},
   "outputs": [],
   "source": []
  }
 ],
 "metadata": {
  "kernelspec": {
   "display_name": "Python 3 (ipykernel)",
   "language": "python",
   "name": "python3"
  },
  "language_info": {
   "codemirror_mode": {
    "name": "ipython",
    "version": 3
   },
   "file_extension": ".py",
   "mimetype": "text/x-python",
   "name": "python",
   "nbconvert_exporter": "python",
   "pygments_lexer": "ipython3",
   "version": "3.11.5"
  }
 },
 "nbformat": 4,
 "nbformat_minor": 5
}
