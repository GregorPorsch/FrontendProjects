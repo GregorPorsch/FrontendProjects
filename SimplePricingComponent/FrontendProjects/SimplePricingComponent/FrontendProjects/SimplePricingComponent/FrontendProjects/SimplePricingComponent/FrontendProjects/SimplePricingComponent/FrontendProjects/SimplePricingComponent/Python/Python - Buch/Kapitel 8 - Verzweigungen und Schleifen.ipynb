{
 "cells": [
  {
   "cell_type": "markdown",
   "id": "eaad708c",
   "metadata": {},
   "source": [
    "# Kapitel 8 - Verzweigungen und Schleifen"
   ]
  },
  {
   "cell_type": "markdown",
   "id": "d6ad069e",
   "metadata": {},
   "source": [
    "## if-Verzweigung"
   ]
  },
  {
   "cell_type": "markdown",
   "id": "addb2e4e",
   "metadata": {},
   "source": [
    "- pass: Nichts wird ausgeführt"
   ]
  },
  {
   "cell_type": "code",
   "execution_count": 1,
   "id": "40d61b84",
   "metadata": {},
   "outputs": [],
   "source": [
    "if True:\n",
    "    pass"
   ]
  },
  {
   "cell_type": "markdown",
   "id": "aa1975e4",
   "metadata": {},
   "source": [
    "- Kurzschreibweise"
   ]
  },
  {
   "cell_type": "code",
   "execution_count": 3,
   "id": "881c9a1f",
   "metadata": {},
   "outputs": [
    {
     "name": "stdout",
     "output_type": "stream",
     "text": [
      "1\n"
     ]
    }
   ],
   "source": [
    "x = 1 if 10 < 20 else 2\n",
    "print(x)"
   ]
  },
  {
   "cell_type": "markdown",
   "id": "8eae4e1d",
   "metadata": {},
   "source": [
    "- Dictionary Mapping"
   ]
  },
  {
   "cell_type": "code",
   "execution_count": 6,
   "id": "fae127b7",
   "metadata": {},
   "outputs": [
    {
     "name": "stdout",
     "output_type": "stream",
     "text": [
      "Mittwoch\n"
     ]
    }
   ],
   "source": [
    "tag = 3\n",
    "wochentage = {1 : \"Montag\", 2: \"Dienstag\", 3: \"Mittwoch\", 4: \"Donnerstag\", 5: \"Freitag\"}\n",
    "if tag in wochentage:\n",
    "    print(wochentage.get(tag))\n",
    "else:\n",
    "    print(\"ungültig\")"
   ]
  },
  {
   "cell_type": "markdown",
   "id": "96f14ac7",
   "metadata": {},
   "source": [
    "## for-Schleife"
   ]
  },
  {
   "cell_type": "markdown",
   "id": "7ecc51e5",
   "metadata": {},
   "source": [
    "- Die Schleifenvariable kann auch im Code nach dem Ende der Schleife verwendet werden und enthält dann den zuletzt zugewiesenen Wert."
   ]
  },
  {
   "cell_type": "code",
   "execution_count": 2,
   "id": "be7ae6f5",
   "metadata": {},
   "outputs": [
    {
     "name": "stdout",
     "output_type": "stream",
     "text": [
      "0\n",
      "2\n",
      "4\n",
      "6\n",
      "8\n"
     ]
    }
   ],
   "source": [
    "for i in range(0,10,2):     # 10 nicht mehr enthalten, 2 ist die Schrittweite\n",
    "    print(i)"
   ]
  },
  {
   "cell_type": "code",
   "execution_count": 8,
   "id": "1bb72f71",
   "metadata": {},
   "outputs": [
    {
     "name": "stdout",
     "output_type": "stream",
     "text": [
      "7\n",
      "12\n",
      "4\n",
      "4\n"
     ]
    }
   ],
   "source": [
    "for i in [7, 12, 4]:\n",
    "    print(i)\n",
    "print(i)"
   ]
  },
  {
   "cell_type": "code",
   "execution_count": 7,
   "id": "dedfdc8f",
   "metadata": {},
   "outputs": [
    {
     "name": "stdout",
     "output_type": "stream",
     "text": [
      "90\n",
      "91\n",
      "92\n",
      "93\n",
      "94\n"
     ]
    }
   ],
   "source": [
    "for i in range(95):\n",
    "    if i < 90:\n",
    "        continue       # der aktuelle Schleifendurchlauf wird abgebrochen und mit dem nächsten fortgefahren\n",
    "    print(i)"
   ]
  },
  {
   "cell_type": "code",
   "execution_count": 10,
   "id": "c64e8f80",
   "metadata": {},
   "outputs": [
    {
     "name": "stdout",
     "output_type": "stream",
     "text": [
      "0\n",
      "1\n",
      "2\n",
      "3\n"
     ]
    }
   ],
   "source": [
    "for i in range(10):\n",
    "    if i > 3:\n",
    "        break         # die Schleife wird vorzeitig und endgültig beendet (in geschachtelten Schleifen wird nur\n",
    "    print(i)          # die Schleife beendet, in der das break verwendet wird)"
   ]
  },
  {
   "cell_type": "markdown",
   "id": "98ca21df",
   "metadata": {},
   "source": [
    "### Enumerate-Funktion"
   ]
  },
  {
   "cell_type": "code",
   "execution_count": 11,
   "id": "430cbab7",
   "metadata": {},
   "outputs": [
    {
     "name": "stdout",
     "output_type": "stream",
     "text": [
      "0 1\n",
      "1 2\n",
      "2 6\n",
      "3 4\n"
     ]
    }
   ],
   "source": [
    "for index, elem in enumerate([1,2,6,4]):\n",
    "    print(index, elem)"
   ]
  },
  {
   "cell_type": "markdown",
   "id": "ab5ffb59",
   "metadata": {},
   "source": [
    "### List/Set/Tupel Comprehension"
   ]
  },
  {
   "cell_type": "markdown",
   "id": "bef00f44",
   "metadata": {},
   "source": [
    "- Alle Listenelemente werden in die Variable eingesetzt. Die ausgewerteten Ausdrücke eregeben eine neue Liste.\n",
    "- Optional kannman mit if eine Bedingung für die Schleifenvariable anhängen: Dann werden nur die Listenelemente berücksichtigt, für die die Bedingung zutrifft.\n",
    "- Man greift auf die Schlüssel und Werte eines Dictionaries über die dic.**items()** Funktion zu."
   ]
  },
  {
   "cell_type": "code",
   "execution_count": 15,
   "id": "34973028",
   "metadata": {},
   "outputs": [
    {
     "name": "stdout",
     "output_type": "stream",
     "text": [
      "[4, 100] {1: 1, 3: 9}\n"
     ]
    }
   ],
   "source": [
    "lst = [1,2,3,10]\n",
    "result = [x*x for x in lst if x%2==0]\n",
    "dic = {x:x*x for x in lst if x%2!=0}\n",
    "print(result, dic)"
   ]
  },
  {
   "cell_type": "code",
   "execution_count": 21,
   "id": "8e039043",
   "metadata": {},
   "outputs": [
    {
     "name": "stdout",
     "output_type": "stream",
     "text": [
      "{'c', 'b', 'a'} [('a', 12), ('b', 6), ('c', 4)]\n"
     ]
    }
   ],
   "source": [
    "dic = {\"a\": 12, \"b\": 78, \"c\": 4, \"b\": 6}\n",
    "result_set = {x for x in dic}\n",
    "result_lst = [(x,y) for x,y in dic.items()]\n",
    "print(result_set, result_lst)"
   ]
  },
  {
   "cell_type": "markdown",
   "id": "c41ff8ee",
   "metadata": {},
   "source": [
    "### Generator Expressions"
   ]
  },
  {
   "cell_type": "markdown",
   "id": "466a12e4",
   "metadata": {},
   "source": [
    "- Durch List Comprehension wird im Arbeitsspeicher eine Liste eingerichtet.\n",
    "- Wenn die LIste im nächsten Schritt verarbeitet wird und danach ohnedies nie wieder benötigt wird, kann man in manchen Fällen eine sog. Generator Expression verwenden. \n",
    "- Die Syntax ist dieselbe wie bei List Comprehension, nur die eckigen Klammern entfallen.\n",
    "- Generator Expressions sind eine Kurzschreibweise zur Formulierung eines Generators.\n",
    "- Beispiel: Summe der Quadratzahlen von 0 bis 99:"
   ]
  },
  {
   "cell_type": "code",
   "execution_count": 22,
   "id": "2ef97432",
   "metadata": {},
   "outputs": [
    {
     "data": {
      "text/plain": [
       "328350"
      ]
     },
     "execution_count": 22,
     "metadata": {},
     "output_type": "execute_result"
    }
   ],
   "source": [
    "sum([x*x for x in range(0,100)])"
   ]
  },
  {
   "cell_type": "markdown",
   "id": "7e2f1830",
   "metadata": {},
   "source": [
    "- Effizienter ist es hier, eine Generator Expression zu erzeugen, die sum wie eine Liste verarbeiten kann. \n",
    "- Vorteil: sum ruft den Generator immer wieder auf, um das jeweils nächste Element zu erzeugen; es ist aber nicht notwendig, alle Elemente gleichzeitig im Speicher zu behalten"
   ]
  },
  {
   "cell_type": "code",
   "execution_count": 23,
   "id": "37be21a3",
   "metadata": {},
   "outputs": [
    {
     "data": {
      "text/plain": [
       "328350"
      ]
     },
     "execution_count": 23,
     "metadata": {},
     "output_type": "execute_result"
    }
   ],
   "source": [
    "sum(x*x for x in range(100))"
   ]
  },
  {
   "cell_type": "markdown",
   "id": "88865730",
   "metadata": {},
   "source": [
    "- Generator Expressions eigenen sich gut zur Weiterverarbeitung durch sum, min und max. Sie können aber auch verwendet werden, um Zeichenketten mit join aneinanderzufügen."
   ]
  },
  {
   "cell_type": "code",
   "execution_count": 24,
   "id": "b3a2949a",
   "metadata": {},
   "outputs": [
    {
     "data": {
      "text/plain": [
       "'ABCDEFGHIJKLMNOPQRSTUVWXYZ'"
      ]
     },
     "execution_count": 24,
     "metadata": {},
     "output_type": "execute_result"
    }
   ],
   "source": [
    "\"\".join(chr(i) for i in range(65, 91))"
   ]
  },
  {
   "cell_type": "markdown",
   "id": "7d13af21",
   "metadata": {},
   "source": [
    "### Break, Continue und Else"
   ]
  },
  {
   "cell_type": "markdown",
   "id": "b13ad834",
   "metadata": {},
   "source": [
    "- break beendet die for-Schleifen vorzeitig\n",
    "- continue überspringt die restlichen Anweisungen für den aktuellen Schleifendurchgang, setzt die Schleife aber fort\n",
    "- Wenn Schleifen ineinander verschachtelt werden, gelten break und cointinue nur für die innerste Schleife\n",
    "- Der else Block in for-Schleifen wird - auch wenn der Schleifenblock gar nicht durchlaufen wurde - ausgeführt, nachdem bei einer for-Schleife alle Elemente durchlaufen wurden."
   ]
  },
  {
   "cell_type": "code",
   "execution_count": 26,
   "id": "c8f89c10",
   "metadata": {},
   "outputs": [
    {
     "name": "stdout",
     "output_type": "stream",
     "text": [
      "0\n",
      "1\n",
      "Ende\n"
     ]
    }
   ],
   "source": [
    "for i in range(2):\n",
    "    print(i)\n",
    "else:\n",
    "    print(\"Ende\")"
   ]
  },
  {
   "cell_type": "markdown",
   "id": "66e56971",
   "metadata": {},
   "source": [
    "- Wird die Schleifenvariable **nicht benötigt**, so ist es eine Konvention, diese mit **_** zu bezeichnen. Das gilt auch für die Comprehension Syntax."
   ]
  },
  {
   "cell_type": "code",
   "execution_count": 31,
   "id": "402f5918",
   "metadata": {},
   "outputs": [
    {
     "data": {
      "text/plain": [
       "500500"
      ]
     },
     "execution_count": 31,
     "metadata": {},
     "output_type": "execute_result"
    }
   ],
   "source": [
    "from functools import reduce\n",
    "reduce(lambda x,y: x+y, list(i for i in range(1001)))"
   ]
  },
  {
   "cell_type": "markdown",
   "id": "0a5f30b0",
   "metadata": {},
   "source": [
    "## Parameter verarbeiten"
   ]
  },
  {
   "cell_type": "markdown",
   "id": "03e48930",
   "metadata": {},
   "source": [
    "- Beim Aufruf eine Python-Scripts können Parameter übergeben werden. \n",
    "- Im Script enthält sys.argv aus dem sys-Modul zuerst den Programmnamen und dann die Parameter in Form einer Liste."
   ]
  },
  {
   "cell_type": "code",
   "execution_count": 37,
   "id": "0d116bf4",
   "metadata": {},
   "outputs": [
    {
     "name": "stdout",
     "output_type": "stream",
     "text": [
      "['-f', '/Users/gregorporsch/Library/Jupyter/runtime/kernel-efe2044c-d123-4c99-9169-c5ce9244abc0.json']\n"
     ]
    }
   ],
   "source": [
    "import sys\n",
    "if (len(sys.argv)<=1):\n",
    "    print(\"Keine Parameter übergeben\")\n",
    "else:\n",
    "    print(sys.argv[1:])"
   ]
  },
  {
   "cell_type": "code",
   "execution_count": 12,
   "id": "a6a821f5",
   "metadata": {},
   "outputs": [
    {
     "data": {
      "text/plain": [
       "1.5397677311665408"
      ]
     },
     "execution_count": 12,
     "metadata": {},
     "output_type": "execute_result"
    }
   ],
   "source": [
    "sum(1/(x**2) for x in range(1,10))"
   ]
  },
  {
   "cell_type": "code",
   "execution_count": null,
   "id": "f6f7944b",
   "metadata": {},
   "outputs": [],
   "source": []
  }
 ],
 "metadata": {
  "kernelspec": {
   "display_name": "Python 3 (ipykernel)",
   "language": "python",
   "name": "python3"
  },
  "language_info": {
   "codemirror_mode": {
    "name": "ipython",
    "version": 3
   },
   "file_extension": ".py",
   "mimetype": "text/x-python",
   "name": "python",
   "nbconvert_exporter": "python",
   "pygments_lexer": "ipython3",
   "version": "3.11.5"
  }
 },
 "nbformat": 4,
 "nbformat_minor": 5
}
