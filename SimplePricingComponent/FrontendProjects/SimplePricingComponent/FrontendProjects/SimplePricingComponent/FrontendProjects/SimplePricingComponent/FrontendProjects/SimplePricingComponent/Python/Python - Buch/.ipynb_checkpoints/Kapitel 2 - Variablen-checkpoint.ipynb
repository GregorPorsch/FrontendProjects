{
 "cells": [
  {
   "cell_type": "markdown",
   "id": "cecee978",
   "metadata": {},
   "source": [
    "# Kapitel 2 - Variablen"
   ]
  },
  {
   "cell_type": "markdown",
   "id": "16008466",
   "metadata": {},
   "source": [
    "## Grundlagen"
   ]
  },
  {
   "cell_type": "markdown",
   "id": "c9f9f281",
   "metadata": {},
   "source": [
    "- Python bietet keine Möglichkeit, Konstanten zu definieren. Konstanten werden daher üblicherweise mit Großbuchstaben geschrieben.\n",
    "- Variablennamen müssen mit einem Buchstaben oder einem Unterstrich (jedoch für Python-interne Daten vorgesehen) beginnen. Sie dürfen Ziffern, jedoch keine Bindestriche oder Leerzeichen enthalten."
   ]
  },
  {
   "cell_type": "markdown",
   "id": "ca69eb06",
   "metadata": {},
   "source": [
    "## Datentypen"
   ]
  },
  {
   "cell_type": "markdown",
   "id": "516520a1",
   "metadata": {},
   "source": [
    "### Besondere Datentypen"
   ]
  },
  {
   "cell_type": "markdown",
   "id": "ee00fdf5",
   "metadata": {},
   "source": [
    "- complex: Komplexe Zahlen (x = 3+4j)\n",
    "- bool: boolesche Werte (True, False)\n",
    "- str: Zeichenketten (x = \"abc\")\n",
    "- bytearray: Byte-Arrays (x = bytearray(...))\n",
    "- io.TextIOWrapper: Dateien (x = open(\"test.txt\"))"
   ]
  },
  {
   "cell_type": "markdown",
   "id": "3377e742",
   "metadata": {},
   "source": [
    "### Erkennung des Datentyps"
   ]
  },
  {
   "cell_type": "markdown",
   "id": "fc7ed9f7",
   "metadata": {},
   "source": [
    "- **Alle Daten** in Python gelten als **Objekte** - Zahlen, Zeichenketten, Listen, Dateien, Funktionen (!) ebenso wie Instanzen vordefinierter oder eigener Klassen.\n",
    "- Es gibt keine Unterscheidung zwischen elementaren Datentypen und Klassen.\n",
    "- Dafür unterscheidet Python zwischen Variablen und Daten. Variablen sind eigentlich nur Name, die auf Objekte verweisen. Wenn Variablen in Ausdrücken vorkommen, ersetzt Python den Namen durch das Objekt, auf das die Variable zeigt. \n",
    "- Wegen der **Trennung von Variablen und Daten** ist es unmöglich, den Datentyp einer Variablen festzustellen! Man kann nur den Typ der Daten ermitteln, auf die die Variable zeigt. Die Variable selbst hat keinen Typ.\n",
    "- Den Typ von Objekten findet man mit **type** heraus:"
   ]
  },
  {
   "cell_type": "code",
   "execution_count": 1,
   "id": "34119f09",
   "metadata": {},
   "outputs": [
    {
     "data": {
      "text/plain": [
       "int"
      ]
     },
     "execution_count": 1,
     "metadata": {},
     "output_type": "execute_result"
    }
   ],
   "source": [
    "x = 3; type(x)"
   ]
  },
  {
   "cell_type": "code",
   "execution_count": 2,
   "id": "6f0599ed",
   "metadata": {},
   "outputs": [
    {
     "data": {
      "text/plain": [
       "float"
      ]
     },
     "execution_count": 2,
     "metadata": {},
     "output_type": "execute_result"
    }
   ],
   "source": [
    "x = 3.1; type(x)"
   ]
  },
  {
   "cell_type": "code",
   "execution_count": 3,
   "id": "017f78c7",
   "metadata": {},
   "outputs": [
    {
     "data": {
      "text/plain": [
       "set"
      ]
     },
     "execution_count": 3,
     "metadata": {},
     "output_type": "execute_result"
    }
   ],
   "source": [
    "x = {1, 2, 3}; type(x)"
   ]
  },
  {
   "cell_type": "markdown",
   "id": "dd33e337",
   "metadata": {},
   "source": [
    "- Wenn man den Datentyp einer Variablen oder eines Parameters im Programmcode überpüfen möchte, ist die Methode **isinstance** dazu besser geeignet als type:"
   ]
  },
  {
   "cell_type": "code",
   "execution_count": 6,
   "id": "c2331dc8",
   "metadata": {},
   "outputs": [
    {
     "name": "stdout",
     "output_type": "stream",
     "text": [
      "True\n",
      "False\n"
     ]
    }
   ],
   "source": [
    "s = \"abc\"\n",
    "print(isinstance(s, str))\n",
    "print(isinstance(s, int))"
   ]
  },
  {
   "cell_type": "markdown",
   "id": "b3bb054c",
   "metadata": {},
   "source": [
    "- Man kann den Typ einer Variablen angeben, wahlweise mit oder ohne gleichzeitige Initialisierung der Variablen. Diese Typangaben haben jedoch keinerlei bindende Wirkung."
   ]
  },
  {
   "cell_type": "code",
   "execution_count": 12,
   "id": "737a68e0",
   "metadata": {},
   "outputs": [],
   "source": [
    "msg: str = \"String\"\n",
    "i: int"
   ]
  },
  {
   "cell_type": "markdown",
   "id": "074de381",
   "metadata": {},
   "source": [
    "#### Mutable und immutable"
   ]
  },
  {
   "cell_type": "markdown",
   "id": "4279a92f",
   "metadata": {},
   "source": [
    "- Bei der Zuweisung b = a (wobei in a bereits der Wert 3 gespeichert ist) wird a durch 3 ersetzt. Also wird auch in b die Zahl 3 gespeichert. a und b sind nun zwei Variablen, die beide auf ein Objekt mit der ganzen Zahl 3 verweisen. Durch a = 4 wird a ein neuer Wert zugewiesen. Auf b hat das keinen Einfluss. **a und b sind unabhängig voneinander**."
   ]
  },
  {
   "cell_type": "code",
   "execution_count": 13,
   "id": "be182bf6",
   "metadata": {},
   "outputs": [
    {
     "name": "stdout",
     "output_type": "stream",
     "text": [
      "4 3\n"
     ]
    }
   ],
   "source": [
    "a = 3\n",
    "b = a\n",
    "a = 4\n",
    "print(a, b)"
   ]
  },
  {
   "cell_type": "markdown",
   "id": "e85b8db4",
   "metadata": {},
   "source": [
    "- Bei Listen beispielsweise ist dasselbe Prinzip jedoch nicht anwendbar:"
   ]
  },
  {
   "cell_type": "code",
   "execution_count": 14,
   "id": "cf6a3aec",
   "metadata": {},
   "outputs": [
    {
     "name": "stdout",
     "output_type": "stream",
     "text": [
      "[4, 2, 3] [4, 2, 3]\n"
     ]
    }
   ],
   "source": [
    "a = [1, 2, 3]\n",
    "b = a\n",
    "a[0] = 4\n",
    "print(a, b)"
   ]
  },
  {
   "cell_type": "markdown",
   "id": "8a174a37",
   "metadata": {},
   "source": [
    "- Der Grund besteht darin, dass Pyhton zwischen veränderlichen (**mutable**) und unveränderlichen (**immutable**) Datentypen unterscheidet. Bei immutable Datentypen ist eine Veränderung unmöglich. Es wird stattdessen jedes Mal, wenn ein Ausdruck neue Daten ergibt, auch ein **neues Objekt erzeugt**.\n",
    "- Bei mutable Datentypen ist es möglich, Elemente zu verändern, ohne gleich ein neues Objekt zu erzeugen. Die Variablen a und b verweisen weiterhin auf dasselbe Objekt, dessen Inhalt sich geändert hat.\n",
    "- Immutable: int, float, complex, bool, str, tupel\n",
    "- Mutable: list, set, dict, bytearray, io.TextIOWrapper"
   ]
  },
  {
   "cell_type": "markdown",
   "id": "758377cb",
   "metadata": {},
   "source": [
    "#### Veränderliche Daten kopieren"
   ]
  },
  {
   "cell_type": "markdown",
   "id": "6b01b695",
   "metadata": {},
   "source": [
    "- Um eine unabhängige Kopie von veränderlichen Daten zu erstellen, verwendet man das copy-Modul und verwendet die Funktionen copy oder deepcopy:"
   ]
  },
  {
   "cell_type": "code",
   "execution_count": 15,
   "id": "4d48c463",
   "metadata": {},
   "outputs": [
    {
     "name": "stdout",
     "output_type": "stream",
     "text": [
      "[4, 2, 3] [1, 2, 3]\n"
     ]
    }
   ],
   "source": [
    "import copy\n",
    "a = [1, 2, 3]\n",
    "b = copy.copy(a)    # b verweist auf eine unabhängige Kopie von a\n",
    "a[0] = 4\n",
    "print(a, b)"
   ]
  },
  {
   "cell_type": "markdown",
   "id": "d8abf18c",
   "metadata": {},
   "source": [
    "- deepcopy geht einen Schritt weiter: Es erstellt auch Kopien aller veränderlichen Objekte, auf die das Ausgangsobjekt verweist. "
   ]
  },
  {
   "cell_type": "code",
   "execution_count": 16,
   "id": "f6814331",
   "metadata": {},
   "outputs": [
    {
     "name": "stdout",
     "output_type": "stream",
     "text": [
      "[1, 2, [7, 4]] [1, 2, [3, 4]]\n"
     ]
    }
   ],
   "source": [
    "import copy\n",
    "a = [1, 2, [3, 4]]\n",
    "b = copy.deepcopy(a)\n",
    "a[2][0] = 7\n",
    "print(a, b)"
   ]
  },
  {
   "cell_type": "markdown",
   "id": "8c27c0e6",
   "metadata": {},
   "source": [
    "#### Typumwandlung"
   ]
  },
  {
   "cell_type": "markdown",
   "id": "ab5bbaa1",
   "metadata": {},
   "source": [
    "- In wenigen Fällen kümmert sich Python selbstständig um die Typumwandlung. Wenn beispielsweise eine ganze Zahl mit einer Fließkommazahl mulipliziert wird, wird die ganze Zahl automatisch in eine Fließkommazahl umgewandelt. Das Ergebnis der Multiplikation ist wieder eine Fließkommazahl. **Zahlen werden nicht automatisch in str umgewandelt!**\n",
    "- In der Regel muss man sich selbst um die Typumwandlung kümmern. Dazu verwendet man Funktionen, deren Namen mit dem jeweiligen Datentyp übereinstimmen:"
   ]
  },
  {
   "cell_type": "code",
   "execution_count": 17,
   "id": "27dc100d",
   "metadata": {},
   "outputs": [
    {
     "name": "stdout",
     "output_type": "stream",
     "text": [
      "abc3\n"
     ]
    }
   ],
   "source": [
    "s = \"abc\"\n",
    "x = 3\n",
    "s = s + str(3)\n",
    "print(s)"
   ]
  },
  {
   "cell_type": "markdown",
   "id": "67b1f153",
   "metadata": {},
   "source": [
    "- Versucht man eine Zeichenkette in eine Zahl umzuwandeln, so erhält man den Fehler **invalid literal**."
   ]
  },
  {
   "cell_type": "code",
   "execution_count": 18,
   "id": "4d712bba",
   "metadata": {},
   "outputs": [
    {
     "ename": "ValueError",
     "evalue": "invalid literal for int() with base 10: 'a'",
     "output_type": "error",
     "traceback": [
      "\u001b[0;31m---------------------------------------------------------------------------\u001b[0m",
      "\u001b[0;31mValueError\u001b[0m                                Traceback (most recent call last)",
      "Cell \u001b[0;32mIn[18], line 1\u001b[0m\n\u001b[0;32m----> 1\u001b[0m \u001b[38;5;28mprint\u001b[39m(\u001b[38;5;28mint\u001b[39m(\u001b[38;5;124m\"\u001b[39m\u001b[38;5;124ma\u001b[39m\u001b[38;5;124m\"\u001b[39m))\n",
      "\u001b[0;31mValueError\u001b[0m: invalid literal for int() with base 10: 'a'"
     ]
    }
   ],
   "source": [
    "print(int(\"a\"))"
   ]
  },
  {
   "cell_type": "markdown",
   "id": "1b8ec2cf",
   "metadata": {},
   "source": [
    "### Gültigkeitsbereich von Variablen"
   ]
  },
  {
   "cell_type": "markdown",
   "id": "c2545cf1",
   "metadata": {},
   "source": [
    "- Innerhalb eines gewöhnlichen Scripts ohne die Definition eigener Funktionen oder Klassen unterscheidet Python nicht zwischen Gültigkeitsebenen. Ist eine Variable einmal definiert, so kann sie weiterverwendet werden."
   ]
  },
  {
   "cell_type": "code",
   "execution_count": 19,
   "id": "c471d362",
   "metadata": {},
   "outputs": [
    {
     "name": "stdout",
     "output_type": "stream",
     "text": [
      "1\n"
     ]
    }
   ],
   "source": [
    "if 1:\n",
    "    x = 1\n",
    "print(x)"
   ]
  },
  {
   "cell_type": "markdown",
   "id": "193144eb",
   "metadata": {},
   "source": [
    "- In Python gibt es keine Möglichkeit, zu testen, ob eine Variable definiert ist. Man kann Variablen aber vorweg den Zustand None zuweisen."
   ]
  },
  {
   "cell_type": "code",
   "execution_count": 21,
   "id": "aa019a2e",
   "metadata": {},
   "outputs": [],
   "source": [
    "x = None\n",
    "if 0:\n",
    "    x = 1\n",
    "if x != None:#\n",
    "    print(x)"
   ]
  },
  {
   "cell_type": "markdown",
   "id": "93cf18dc",
   "metadata": {},
   "source": [
    "- Variablen, die man nicht mehr braucht, können mit del gelöscht werden:"
   ]
  },
  {
   "cell_type": "code",
   "execution_count": 22,
   "id": "5b82ad25",
   "metadata": {},
   "outputs": [
    {
     "ename": "NameError",
     "evalue": "name 'x' is not defined",
     "output_type": "error",
     "traceback": [
      "\u001b[0;31m---------------------------------------------------------------------------\u001b[0m",
      "\u001b[0;31mNameError\u001b[0m                                 Traceback (most recent call last)",
      "Cell \u001b[0;32mIn[22], line 3\u001b[0m\n\u001b[1;32m      1\u001b[0m x \u001b[38;5;241m=\u001b[39m \u001b[38;5;241m3\u001b[39m \n\u001b[1;32m      2\u001b[0m \u001b[38;5;28;01mdel\u001b[39;00m(x)\n\u001b[0;32m----> 3\u001b[0m \u001b[38;5;28mprint\u001b[39m(x)\n",
      "\u001b[0;31mNameError\u001b[0m: name 'x' is not defined"
     ]
    }
   ],
   "source": [
    "x = 3 \n",
    "del(x)\n",
    "print(x)"
   ]
  },
  {
   "cell_type": "markdown",
   "id": "4d2e005c",
   "metadata": {},
   "source": [
    "- Ein Sonderfall sind Funktionen und Klassen. Dort definierte Variablen gelten nur innerhalb der Funktion bzw. nur für ein Objekt der Klasse."
   ]
  },
  {
   "cell_type": "code",
   "execution_count": null,
   "id": "1f12e7ae",
   "metadata": {},
   "outputs": [],
   "source": []
  }
 ],
 "metadata": {
  "kernelspec": {
   "display_name": "Python 3 (ipykernel)",
   "language": "python",
   "name": "python3"
  },
  "language_info": {
   "codemirror_mode": {
    "name": "ipython",
    "version": 3
   },
   "file_extension": ".py",
   "mimetype": "text/x-python",
   "name": "python",
   "nbconvert_exporter": "python",
   "pygments_lexer": "ipython3",
   "version": "3.11.5"
  }
 },
 "nbformat": 4,
 "nbformat_minor": 5
}
