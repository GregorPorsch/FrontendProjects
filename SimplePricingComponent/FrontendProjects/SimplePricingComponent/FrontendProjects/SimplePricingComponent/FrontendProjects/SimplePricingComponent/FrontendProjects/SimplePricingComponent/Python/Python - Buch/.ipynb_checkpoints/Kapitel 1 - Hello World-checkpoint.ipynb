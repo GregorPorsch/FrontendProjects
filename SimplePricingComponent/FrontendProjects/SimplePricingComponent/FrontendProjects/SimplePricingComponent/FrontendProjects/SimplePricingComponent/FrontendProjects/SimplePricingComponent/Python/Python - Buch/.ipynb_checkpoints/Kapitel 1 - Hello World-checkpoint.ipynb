{
 "cells": [
  {
   "cell_type": "markdown",
   "id": "0e6ab3b9",
   "metadata": {},
   "source": [
    "# Kapitel 1 - Hello World"
   ]
  },
  {
   "cell_type": "markdown",
   "id": "5457dc98",
   "metadata": {},
   "source": [
    "## Script"
   ]
  },
  {
   "cell_type": "markdown",
   "id": "62bc7b78",
   "metadata": {},
   "source": [
    "- Sonderform eines Programms, bei dem der Quellcode direkt von einem Interpreter (python bzw. python3) ausgeführt wird. Scripts müssen vor der Ausführung nicht kompiliert werden. Stattdessen liest python.exe bzw. python3 den Code direkt aus der Script-Datei und führt ihn aus.\n",
    "- Jedes Python-Programm kann somit als Script betrachtet werden.\n",
    "- Andere Programmiersprachen (Java, C, Swift): Programmcode muss kompiliert werden, bevor er ausgeführt werden kann. -> Extraschritt entfällt bei Python\n",
    "- Theoretisch werden Python-Programme auch kompiliert. Davon merkt man jedoch nichts, weil dieser Vorgang durch den sog. Just-in-Time-Compiler automatisch erfolgt. Der resultierende Byte-Code von einzeldateien wird nur im RAM abgelegt, aber nicht gespeichert.\n",
    "- Bei größeren Python-Projekten, die asu mehreren Modulen bestehen, werden Byte-Code-Dateien im Unterverzeichnis \\_\\_pycache\\_\\_ gespeichert, um ein wiederholtes Kompilieren zu vermeiden"
   ]
  },
  {
   "cell_type": "markdown",
   "id": "401f3a0d",
   "metadata": {},
   "source": [
    "## Python Scripts ausführen (MacOs)"
   ]
  },
  {
   "cell_type": "markdown",
   "id": "3bf25366",
   "metadata": {},
   "source": [
    "Drei Dinge erforderlich:\n",
    "- chmod: Die Skript-Datei muss ausführbar sein: **chmod +x \\<dateiname\\>**\n",
    "- Shebang: Die erste Zeile des Scripts muss in Form eines speziellen Kommentars (sog. Shebang) den genauen Ort des Interpreters angeben (über command: which python3). Da der Ort, wohin der Python-Interpreter installiert wird, variieren kann, greift man auf das Kommando env zurück, für das plattformübergreifend der Pfad /usr/bin/env gilt. Es sucht nach dem nachfolgend genannten Kommando und führt es aus. Damit ergibt sich die Shebang-Zeile **#!/usr/bin/env python3**, die für alle Unix-ähnlichen Systeme funktioniert.\n",
    "- Pfad: In Linux und MacOs können normalerweise nur Kommandos bzw. Programme ausgeführt werden, die sich in einem in PATH genannten Verzeichnis befinden. PATH ist eine sog. Umgebungsvariable."
   ]
  },
  {
   "cell_type": "markdown",
   "id": "3f270e71",
   "metadata": {},
   "source": [
    "## Elementare Syntaxregeln"
   ]
  },
  {
   "cell_type": "markdown",
   "id": "8c75957c",
   "metadata": {},
   "source": [
    "### Anweisungen"
   ]
  },
  {
   "cell_type": "markdown",
   "id": "34792d5c",
   "metadata": {},
   "source": [
    "- Mehrzeilige Anweisungen sind erlaubt, wenn ihr Anfang und Ende durch Klammern eindeutig hervorgeht, z.B. aufgrund offener Klammern. Wenn Python die mehrzeiligen Struktur nicht erkennt, müssen die Anweisungen mit dem Trennzeichen \\ gebildet werden."
   ]
  },
  {
   "cell_type": "code",
   "execution_count": 4,
   "id": "eaa7043a",
   "metadata": {},
   "outputs": [
    {
     "name": "stdout",
     "output_type": "stream",
     "text": [
      "abc efg\n",
      "10\n"
     ]
    }
   ],
   "source": [
    "print(\"abc\",\n",
    "     \"efg\")\n",
    "a = 1 + 2 + \\\n",
    "    3 + 4\n",
    "print(a)"
   ]
  },
  {
   "cell_type": "markdown",
   "id": "b0d3287a",
   "metadata": {},
   "source": [
    "- Anweisungen dürfen mit einem ; abgeschlossen werden. Dadurch kann man mehrere Anweisungen in einer Zeile formulieren."
   ]
  },
  {
   "cell_type": "code",
   "execution_count": 6,
   "id": "a6442be7",
   "metadata": {},
   "outputs": [
    {
     "name": "stdout",
     "output_type": "stream",
     "text": [
      "6\n"
     ]
    }
   ],
   "source": [
    "a = 1; b = 2; c = 3; print(a + b +c)"
   ]
  },
  {
   "cell_type": "markdown",
   "id": "16468242",
   "metadata": {},
   "source": [
    "- Bei Variablen können auch Mehrfachzuweisungen durchgeführt werden, indem sowohl die Variablen als auch die Werte in Gruppen angeben werden, deren Bestandteile jeweils durch Kommas getrennt werden. Python-intern werden dabei Tupel gebildet."
   ]
  },
  {
   "cell_type": "code",
   "execution_count": 7,
   "id": "f924c5f3",
   "metadata": {},
   "outputs": [
    {
     "name": "stdout",
     "output_type": "stream",
     "text": [
      "6\n"
     ]
    }
   ],
   "source": [
    "a, b, c = 1, 2, 3\n",
    "print(a + b +c)"
   ]
  },
  {
   "cell_type": "markdown",
   "id": "8c1ec149",
   "metadata": {},
   "source": [
    "### Blockelemente"
   ]
  },
  {
   "cell_type": "markdown",
   "id": "fdb90af7",
   "metadata": {},
   "source": [
    "- Code darf auch direkt nach einem Blockelement angegeben werden. In einfachen Fällen lassen sich so einzeilige Bedingungen oder Schleifen formulieren."
   ]
  },
  {
   "cell_type": "code",
   "execution_count": 8,
   "id": "2e0988f5",
   "metadata": {},
   "outputs": [
    {
     "name": "stdout",
     "output_type": "stream",
     "text": [
      "Hello\n",
      "World!\n"
     ]
    }
   ],
   "source": [
    "if True: print(\"Hello\"); print(\"World!\")"
   ]
  },
  {
   "cell_type": "markdown",
   "id": "cb7d3433",
   "metadata": {},
   "source": [
    "### Print"
   ]
  },
  {
   "cell_type": "markdown",
   "id": "ec0172cb",
   "metadata": {},
   "source": [
    "- Zwischen den Parametern wird jeweils ein Leerzeichen und am Ende ein Zeilenumbruchzeichen gesetzt."
   ]
  },
  {
   "cell_type": "code",
   "execution_count": 9,
   "id": "f8fb28c9",
   "metadata": {},
   "outputs": [
    {
     "name": "stdout",
     "output_type": "stream",
     "text": [
      "1 2 0.75 abc False\n"
     ]
    }
   ],
   "source": [
    "print(1, 2, 3/4, \"abc\", 2==3)"
   ]
  },
  {
   "cell_type": "markdown",
   "id": "71db0635",
   "metadata": {},
   "source": [
    "- Print besitzt drei optionale Parameter: \n",
    "    - **sep** stellt die Zeichenkette ein, die zwischen den Parametern ausgegeben wird - standardmäßig \" \"\n",
    "    - **end** definiert die Zeichenkette, die nach dem letzten Parameter ausgegeben wird - standardmäßig \"\\n\"\n",
    "    - **file** bestimmt, wo die Ausgabe durchgeführt wird. Normalerweise werden die Ausgaben zur Standardausgabe umgeleitet. file gibt die Möglichkeit, die Ausgaben in eine Textdatei zu schreiben."
   ]
  },
  {
   "cell_type": "code",
   "execution_count": 10,
   "id": "91e92a79",
   "metadata": {
    "scrolled": true
   },
   "outputs": [
    {
     "name": "stdout",
     "output_type": "stream",
     "text": [
      "1---2---3\n",
      "1 2 3"
     ]
    }
   ],
   "source": [
    "print(1, 2, 3, sep=\"---\")\n",
    "print(1, 2, 3, end=\"\")\n",
    "f = open(\"out.txt\", \"w\")\n",
    "print(1, 2, 3, file=f)\n",
    "f.close()"
   ]
  },
  {
   "cell_type": "markdown",
   "id": "1b86530e",
   "metadata": {},
   "source": [
    "### Input"
   ]
  },
  {
   "cell_type": "markdown",
   "id": "a92e814f",
   "metadata": {},
   "source": [
    "- Leere Eingaben ohne Text quittiert input mit einem EOFError.\n",
    "- Wenn das readline-Modul geladen wurde, stehen bei wiederholten Eingaben Editierfunktionen zur Verfügung. Dadurch kann der Nutzer beispielsweise mit den Cursortasten zuvor eingegebene Zeichenketten wiederverwenden."
   ]
  },
  {
   "cell_type": "markdown",
   "id": "6f1f1a5d",
   "metadata": {},
   "source": [
    "### Module und import"
   ]
  },
  {
   "cell_type": "markdown",
   "id": "eaeabd44",
   "metadata": {},
   "source": [
    "- import modulname: Das Modul wird gelesen. Alle darin definierten Funktionen können im Anschluss in der Schreibweise **modulname.funktionsname()** genutzt werden. Mit **import m1, m2, m3** können auch mehrer Module gleichzeitig importiert werden.\n",
    "- import modulname as m: Im Modul definierte Funktionen können in der Form **m.funktionsname()** verwendet werden.\n",
    "- from modulname import n1, n2: Die Funktionen oder Klassen n1 und n2 können ohne das Voranstellen des Modulnamen verwendet werden.\n",
    "- from modulname import *: Alle Symbole aus dem angegebenen Modul werden importiert, deren Name nicht mit \\_\\_ beginnt (also mit zwei Unterstrichen zur Kennzeichnung interner Symbole)."
   ]
  },
  {
   "cell_type": "markdown",
   "id": "aa5739de",
   "metadata": {},
   "source": [
    "### Kommentare"
   ]
  },
  {
   "cell_type": "markdown",
   "id": "b27b23f4",
   "metadata": {},
   "source": [
    "- Einfache Kommentare: #\n",
    "- Mehrzeilige Kommentare: \"\"\"\n",
    "- Wenn mit \"\"\" eingeleitete Kommentare richtig platziert sind (z.B. unmittelbar nach der Definition einer Funktion oder einer Klasse), gelten sie als sog. Docstrings und werden vom Python-internen Dokumentationssystem ausgewertet."
   ]
  },
  {
   "cell_type": "code",
   "execution_count": null,
   "id": "0d46c247",
   "metadata": {},
   "outputs": [],
   "source": []
  }
 ],
 "metadata": {
  "kernelspec": {
   "display_name": "Python 3 (ipykernel)",
   "language": "python",
   "name": "python3"
  },
  "language_info": {
   "codemirror_mode": {
    "name": "ipython",
    "version": 3
   },
   "file_extension": ".py",
   "mimetype": "text/x-python",
   "name": "python",
   "nbconvert_exporter": "python",
   "pygments_lexer": "ipython3",
   "version": "3.11.5"
  }
 },
 "nbformat": 4,
 "nbformat_minor": 5
}
